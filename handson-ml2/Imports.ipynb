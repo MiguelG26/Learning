{
  "nbformat": 4,
  "nbformat_minor": 0,
  "metadata": {
    "kernelspec": {
      "display_name": "Python 3",
      "language": "python",
      "name": "python3"
    },
    "language_info": {
      "codemirror_mode": {
        "name": "ipython",
        "version": 3
      },
      "file_extension": ".py",
      "mimetype": "text/x-python",
      "name": "python",
      "nbconvert_exporter": "python",
      "pygments_lexer": "ipython3",
      "version": "3.7.6"
    },
    "colab": {
      "name": "Imports.ipynb",
      "provenance": [],
      "include_colab_link": true
    }
  },
  "cells": [
    {
      "cell_type": "markdown",
      "metadata": {
        "id": "view-in-github",
        "colab_type": "text"
      },
      "source": [
        "<a href=\"https://colab.research.google.com/github/MiguelG26/Learning/blob/master/Hands-On%20Machine%20Learning%20with%20Scikit-Learn%20and%20TensorFlow2/Imports.ipynb\" target=\"_parent\"><img src=\"https://colab.research.google.com/assets/colab-badge.svg\" alt=\"Open In Colab\"/></a>"
      ]
    },
    {
      "cell_type": "markdown",
      "metadata": {
        "id": "0gbS2OCN-YDP",
        "colab_type": "text"
      },
      "source": [
        "#### 03 Classification"
      ]
    },
    {
      "cell_type": "code",
      "metadata": {
        "id": "-7Kl8CKt-YDS",
        "colab_type": "code",
        "colab": {}
      },
      "source": [
        "#### Model2: \n",
        "    from sklearn.linear_model import SGDClassifier #Stochastic Gradient Descent Classifier'\n",
        "    from sklearn.ensemble import RandomForestClassifier\n",
        "    from sklearn.linear_model import LogisticRegression\n",
        "    from sklearn.neighbors import KNeighborsClassifier\n",
        "\n",
        "### for Cross validation\n",
        "    from sklearn.model_selection import cross_val_score\n",
        "\n",
        "    from sklearn.model_selection import cross_val_predict\n",
        "\n",
        "### Metrics\n",
        "    from sklearn.metrics import confusion_matrix\n",
        "        # from me\n",
        "    from sklearn.metrics import classification_report\n",
        "\n",
        "    from sklearn.metrics import precision_recall_curve\n",
        "    from sklearn.metrics import roc_curve\n",
        "    from sklearn.metrics import roc_auc_score\n",
        "    \n",
        "    from sklearn.metrics import precision_score, recall_score\n",
        "    from sklearn.metrics import f1_score\n",
        "    \n",
        "    from sklearn.metrics import accuracy_score\n",
        "\n",
        "#\n",
        "from sklearn.multiclass import OneVsOneClassifier\n",
        "\n",
        "#for data preparation\n",
        "from sklearn.preprocessing import StandardScaler\n",
        "from sklearn.model_selection import train_test_split\n",
        "from sklearn.pipeline import Pipeline\n",
        "\n",
        "\n"
      ],
      "execution_count": null,
      "outputs": []
    },
    {
      "cell_type": "markdown",
      "metadata": {
        "id": "BicD4diW-YDa",
        "colab_type": "text"
      },
      "source": [
        "1. Random Forest better than SGD Classifier! \n",
        "2. Scaling the inputs\n"
      ]
    },
    {
      "cell_type": "markdown",
      "metadata": {
        "id": "twMvgJqE-YDb",
        "colab_type": "text"
      },
      "source": [
        "#### 04_training_linear_models"
      ]
    },
    {
      "cell_type": "code",
      "metadata": {
        "id": "M3vtenq5-YDc",
        "colab_type": "code",
        "colab": {}
      },
      "source": [
        "from sklearn.linear_model import LinearRegression\n",
        "\n",
        "#Polynomial\n",
        "from sklearn.preprocessing import PolynomialFeatures\n",
        "\n",
        "from sklearn.preprocessing import StandardScaler\n",
        "\n",
        "\n",
        "#Regularized Models\n",
        "from sklearn.linear_model import Ridge\n",
        "from sklearn.linear_model import Lasso\n",
        "from sklearn.linear_model import ElasticNet\n",
        "\n",
        "from sklearn.base import clone\n",
        "\n",
        "#to import data sets\n",
        "from sklearn import datasets\n"
      ],
      "execution_count": null,
      "outputs": []
    },
    {
      "cell_type": "markdown",
      "metadata": {
        "id": "8vj1F7JE-YDr",
        "colab_type": "text"
      },
      "source": [
        "#### 05_support_vector_machines"
      ]
    },
    {
      "cell_type": "code",
      "metadata": {
        "id": "phO6eMVq-YDs",
        "colab_type": "code",
        "colab": {}
      },
      "source": [
        "from sklearn import datasets\n",
        "from sklearn.datasets import make_moons\n",
        "\n",
        "from sklearn.preprocessing import StandardScaler\n",
        "from sklearn.preprocessing import PolynomialFeatures\n",
        "\n",
        "#Models\n",
        "#for classification\n",
        "from sklearn.svm import LinearSVC #Support vector Classifier\n",
        "from sklearn.svm import SVC # SVM Classifier model\n",
        "#For Regression\n",
        "from sklearn.svm import LinearSVR\n",
        "from sklearn.svm import SVR"
      ],
      "execution_count": null,
      "outputs": []
    },
    {
      "cell_type": "markdown",
      "metadata": {
        "id": "BwbOCsI6-YD3",
        "colab_type": "text"
      },
      "source": [
        "#### 06_decision_trees"
      ]
    },
    {
      "cell_type": "code",
      "metadata": {
        "id": "p7MA95Gk-YD6",
        "colab_type": "code",
        "colab": {}
      },
      "source": [
        "from sklearn.datasets import load_iris\n",
        "\n",
        "from graphviz import Source\n",
        "from sklearn.tree import export_graphviz\n",
        "\n",
        "from matplotlib.colors import ListedColormap\n",
        "\n",
        "#Model\n",
        "from sklearn.tree import DecisionTreeClassifier\n",
        "from sklearn.tree import DecisionTreeRegressor\n",
        "\n",
        "#For the excercise\n",
        "from sklearn.model_selection import ShuffleSplit\n",
        "\n"
      ],
      "execution_count": null,
      "outputs": []
    },
    {
      "cell_type": "markdown",
      "metadata": {
        "id": "JPwy7gEh-YD-",
        "colab_type": "text"
      },
      "source": [
        "#### 07_ensemble_learning_and_random_forests\n",
        "\n",
        "*   List item\n",
        "*   List item\n",
        "\n"
      ]
    },
    {
      "cell_type": "code",
      "metadata": {
        "id": "gDJy82fY-YEA",
        "colab_type": "code",
        "colab": {}
      },
      "source": [
        "#Model\n",
        "from sklearn.ensemble import BaggingClassifier\n",
        "from sklearn.ensemble import RandomForestClassifier\n",
        "\n",
        "#mentioned but not included in the code notebook\n",
        "from sklearn.ensemble import ExtraTreesClassifier\n",
        "from sklearn.ensemble import AdaBoostClassifier\n",
        "from sklearn.ensemble import GradientBoostingRegressor\n"
      ],
      "execution_count": null,
      "outputs": []
    },
    {
      "cell_type": "code",
      "metadata": {
        "id": "bI9MnvcM-YEJ",
        "colab_type": "code",
        "colab": {}
      },
      "source": [
        "import pandas as pd\n",
        "df=pd.DataFrame(X, columns=[\"x\"])\n",
        "df[\"y\"]=y\n",
        "df.plot()"
      ],
      "execution_count": null,
      "outputs": []
    },
    {
      "cell_type": "markdown",
      "metadata": {
        "id": "eITDlWV5-0m-",
        "colab_type": "text"
      },
      "source": [
        "#### 09_unsupervised_learning"
      ]
    },
    {
      "cell_type": "code",
      "metadata": {
        "id": "SLczYFa7-YEQ",
        "colab_type": "code",
        "colab": {}
      },
      "source": [
        "#datasets\n",
        "from sklearn.mixture import GaussianMixture\n",
        "from sklearn.datasets import make_blobs\n",
        "from sklearn.datasets import fetch_openml\n",
        "from sklearn.datasets import load_digits # a simple MNIST-like dataset containing 1,797 grayscale 8×8 images representing digits 0 to 9.\n",
        "\n",
        "#models\n",
        "from sklearn.cluster import KMeans\n",
        "from sklearn.cluster import MiniBatchKMeans\n",
        "from sklearn.cluster import DBSCAN\n",
        "\n",
        "from sklearn.mixture import GaussianMixture\n",
        "from sklearn.mixture import BayesianGaussianMixture\n",
        "\n",
        "#... other models\n",
        "from sklearn.cluster import AgglomerativeClustering\n",
        "from sklearn.cluster import SpectralClustering\n",
        "\n",
        "#Metrics\n",
        "from sklearn.metrics import silhouette_score\n",
        "from sklearn.metrics import silhouette_samples\n",
        "\n",
        "#data preparation\n",
        "from matplotlib.image import imread\n",
        "\n",
        "#tips\n",
        "y_pred is kmeans.labels_ #cool way to compare if 2 arrays are identical\n",
        "np.mean(y_train_partially_propagated == y_train[partially_propagated]) # to get percentage of similarity between two vectors\n"
      ],
      "execution_count": 4,
      "outputs": []
    },
    {
      "cell_type": "code",
      "metadata": {
        "id": "Ne54JS-c_IVB",
        "colab_type": "code",
        "colab": {}
      },
      "source": [
        ""
      ],
      "execution_count": 3,
      "outputs": []
    },
    {
      "cell_type": "code",
      "metadata": {
        "id": "f8FF2-bO_IZC",
        "colab_type": "code",
        "colab": {}
      },
      "source": [
        ""
      ],
      "execution_count": null,
      "outputs": []
    },
    {
      "cell_type": "code",
      "metadata": {
        "id": "EuhWM57F_Ich",
        "colab_type": "code",
        "colab": {}
      },
      "source": [
        ""
      ],
      "execution_count": null,
      "outputs": []
    },
    {
      "cell_type": "code",
      "metadata": {
        "id": "KNlmonsr_Ihf",
        "colab_type": "code",
        "colab": {}
      },
      "source": [
        ""
      ],
      "execution_count": null,
      "outputs": []
    },
    {
      "cell_type": "code",
      "metadata": {
        "id": "xC525Qlm_IlA",
        "colab_type": "code",
        "colab": {}
      },
      "source": [
        ""
      ],
      "execution_count": null,
      "outputs": []
    }
  ]
}