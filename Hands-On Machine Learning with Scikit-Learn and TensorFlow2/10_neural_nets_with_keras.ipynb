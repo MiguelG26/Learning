{
  "nbformat": 4,
  "nbformat_minor": 0,
  "metadata": {
    "kernelspec": {
      "display_name": "Python 3",
      "language": "python",
      "name": "python3"
    },
    "language_info": {
      "codemirror_mode": {
        "name": "ipython",
        "version": 3
      },
      "file_extension": ".py",
      "mimetype": "text/x-python",
      "name": "python",
      "nbconvert_exporter": "python",
      "pygments_lexer": "ipython3",
      "version": "3.7.6"
    },
    "nav_menu": {
      "height": "264px",
      "width": "369px"
    },
    "toc": {
      "navigate_menu": true,
      "number_sections": true,
      "sideBar": true,
      "threshold": 6,
      "toc_cell": false,
      "toc_section_display": "block",
      "toc_window_display": false
    },
    "colab": {
      "name": "10_neural_nets_with_keras.ipynb",
      "provenance": [],
      "toc_visible": true
    }
  },
  "cells": [
    {
      "cell_type": "markdown",
      "metadata": {
        "id": "HunHAC73idG5",
        "colab_type": "text"
      },
      "source": [
        "**Chapter 10 – Introduction to Artificial Neural Networks with Keras**\n",
        "\n",
        "_This notebook contains all the sample code and solutions to the exercises in chapter 10._"
      ]
    },
    {
      "cell_type": "markdown",
      "metadata": {
        "id": "uAOqkA0cidG6",
        "colab_type": "text"
      },
      "source": [
        "<table align=\"left\">\n",
        "  <td>\n",
        "    <a target=\"_blank\" href=\"https://colab.research.google.com/github/ageron/handson-ml2/blob/master/10_neural_nets_with_keras.ipynb\"><img src=\"https://www.tensorflow.org/images/colab_logo_32px.png\" />Run in Google Colab</a>\n",
        "  </td>\n",
        "</table>"
      ]
    },
    {
      "cell_type": "markdown",
      "metadata": {
        "id": "oEMruY_SidG7",
        "colab_type": "text"
      },
      "source": [
        "# Setup"
      ]
    },
    {
      "cell_type": "markdown",
      "metadata": {
        "id": "0wZ6mkRbidG8",
        "colab_type": "text"
      },
      "source": [
        "First, let's import a few common modules, ensure MatplotLib plots figures inline and prepare a function to save the figures. We also check that Python 3.5 or later is installed (although Python 2.x may work, it is deprecated so we strongly recommend you use Python 3 instead), as well as Scikit-Learn ≥0.20 and TensorFlow ≥2.0."
      ]
    },
    {
      "cell_type": "code",
      "metadata": {
        "id": "RCStmcsCidG9",
        "colab_type": "code",
        "colab": {}
      },
      "source": [
        "# Python ≥3.5 is required\n",
        "import sys\n",
        "assert sys.version_info >= (3, 5)\n",
        "\n",
        "# Scikit-Learn ≥0.20 is required\n",
        "import sklearn\n",
        "assert sklearn.__version__ >= \"0.20\"\n",
        "\n",
        "try:\n",
        "    # %tensorflow_version only exists in Colab.\n",
        "    %tensorflow_version 2.x\n",
        "except Exception:\n",
        "    pass\n",
        "\n",
        "# TensorFlow ≥2.0 is required\n",
        "import tensorflow as tf\n",
        "assert tf.__version__ >= \"2.0\"\n",
        "\n",
        "# Common imports\n",
        "import numpy as np\n",
        "import os\n",
        "\n",
        "# to make this notebook's output stable across runs\n",
        "np.random.seed(42)\n",
        "\n",
        "# To plot pretty figures\n",
        "%matplotlib inline\n",
        "import matplotlib as mpl\n",
        "import matplotlib.pyplot as plt\n",
        "mpl.rc('axes', labelsize=14)\n",
        "mpl.rc('xtick', labelsize=12)\n",
        "mpl.rc('ytick', labelsize=12)\n",
        "\n",
        "# Where to save the figures\n",
        "PROJECT_ROOT_DIR = \".\"\n",
        "CHAPTER_ID = \"ann\"\n",
        "IMAGES_PATH = os.path.join(PROJECT_ROOT_DIR, \"images\", CHAPTER_ID)\n",
        "os.makedirs(IMAGES_PATH, exist_ok=True)\n",
        "\n",
        "def save_fig(fig_id, tight_layout=True, fig_extension=\"png\", resolution=300):\n",
        "    path = os.path.join(IMAGES_PATH, fig_id + \".\" + fig_extension)\n",
        "    print(\"Saving figure\", fig_id)\n",
        "    if tight_layout:\n",
        "        plt.tight_layout()\n",
        "    plt.savefig(path, format=fig_extension, dpi=resolution)\n",
        "\n",
        "# Ignore useless warnings (see SciPy issue #5998)\n",
        "import warnings\n",
        "warnings.filterwarnings(action=\"ignore\", message=\"^internal gelsd\")"
      ],
      "execution_count": 4,
      "outputs": []
    },
    {
      "cell_type": "code",
      "metadata": {
        "id": "MmvOpg6Z7vO3",
        "colab_type": "code",
        "colab": {
          "base_uri": "https://localhost:8080/",
          "height": 35
        },
        "outputId": "08b38193-3f77-4ca5-8a48-af2c419e02ad"
      },
      "source": [
        "#!pip install plotly --upgrade\n",
        "import plotly\n",
        "plotly.__version__"
      ],
      "execution_count": 5,
      "outputs": [
        {
          "output_type": "execute_result",
          "data": {
            "application/vnd.google.colaboratory.intrinsic+json": {
              "type": "string"
            },
            "text/plain": [
              "'4.9.0'"
            ]
          },
          "metadata": {
            "tags": []
          },
          "execution_count": 5
        }
      ]
    },
    {
      "cell_type": "markdown",
      "metadata": {
        "id": "rz8U6xPMidHB",
        "colab_type": "text"
      },
      "source": [
        "# Perceptrons"
      ]
    },
    {
      "cell_type": "markdown",
      "metadata": {
        "id": "ROPIeLOridHD",
        "colab_type": "text"
      },
      "source": [
        "**Note**: we set `max_iter` and `tol` explicitly to avoid warnings about the fact that their default value will change in future versions of Scikit-Learn."
      ]
    },
    {
      "cell_type": "code",
      "metadata": {
        "id": "RQJC11JkidHE",
        "colab_type": "code",
        "colab": {}
      },
      "source": [
        "import numpy as np\n",
        "from sklearn.datasets import load_iris\n",
        "from sklearn.linear_model import Perceptron\n",
        "\n",
        "iris = load_iris()\n",
        "X = iris.data[:, (2, 3)]  # petal length, petal width\n",
        "y = (iris.target == 0).astype(np.int)\n",
        "\n",
        "per_clf = Perceptron(max_iter=1000, tol=1e-3, random_state=42)\n",
        "per_clf.fit(X, y)\n",
        "\n",
        "y_pred = per_clf.predict([[2, 0.5]])"
      ],
      "execution_count": 2,
      "outputs": []
    },
    {
      "cell_type": "code",
      "metadata": {
        "id": "a9D-oOnMidHK",
        "colab_type": "code",
        "colab": {
          "base_uri": "https://localhost:8080/",
          "height": 34
        },
        "outputId": "05fae13f-0c51-4f1d-bd20-1c6bc54f5513"
      },
      "source": [
        "y_pred = per_clf.predict([[1,1]]) #M\n",
        "y_pred"
      ],
      "execution_count": 3,
      "outputs": [
        {
          "output_type": "execute_result",
          "data": {
            "text/plain": [
              "array([1])"
            ]
          },
          "metadata": {
            "tags": []
          },
          "execution_count": 3
        }
      ]
    },
    {
      "cell_type": "code",
      "metadata": {
        "id": "Z9eJpBwA_yaf",
        "colab_type": "code",
        "colab": {}
      },
      "source": [
        "#inputs = np.array([[0,0,3],[0,1,4]])\n",
        "#weights = np.array([[1,1],[1,1]])\n",
        "#inputs*weights"
      ],
      "execution_count": 4,
      "outputs": []
    },
    {
      "cell_type": "code",
      "metadata": {
        "id": "nSN_JRb0_yfo",
        "colab_type": "code",
        "colab": {}
      },
      "source": [
        ""
      ],
      "execution_count": 4,
      "outputs": []
    },
    {
      "cell_type": "code",
      "metadata": {
        "id": "c00BmJiGidHS",
        "colab_type": "code",
        "colab": {
          "base_uri": "https://localhost:8080/",
          "height": 314
        },
        "outputId": "636a74a4-2312-4b58-ebe8-1302db0e8789"
      },
      "source": [
        "a = -per_clf.coef_[0][0] / per_clf.coef_[0][1]\n",
        "b = -per_clf.intercept_ / per_clf.coef_[0][1]\n",
        "\n",
        "axes = [0, 5, 0, 2]\n",
        "\n",
        "x0, x1 = np.meshgrid(\n",
        "        np.linspace(axes[0], axes[1], 500).reshape(-1, 1),\n",
        "        np.linspace(axes[2], axes[3], 200).reshape(-1, 1),\n",
        "    )\n",
        "X_new = np.c_[x0.ravel(), x1.ravel()]\n",
        "y_predict = per_clf.predict(X_new)\n",
        "zz = y_predict.reshape(x0.shape)\n",
        "\n",
        "plt.figure(figsize=(10, 4))\n",
        "plt.plot(X[y==0, 0], X[y==0, 1], \"bs\", label=\"Not Iris-Setosa\")\n",
        "plt.plot(X[y==1, 0], X[y==1, 1], \"yo\", label=\"Iris-Setosa\")\n",
        "\n",
        "plt.plot([axes[0], axes[1]], [a * axes[0] + b, a * axes[1] + b], \"k-\", linewidth=3)\n",
        "from matplotlib.colors import ListedColormap\n",
        "custom_cmap = ListedColormap(['#9898ff', '#fafab0'])\n",
        "\n",
        "plt.contourf(x0, x1, zz, cmap=custom_cmap)\n",
        "plt.xlabel(\"Petal length\", fontsize=14)\n",
        "plt.ylabel(\"Petal width\", fontsize=14)\n",
        "plt.legend(loc=\"lower right\", fontsize=14)\n",
        "plt.axis(axes)\n",
        "\n",
        "save_fig(\"perceptron_iris_plot\")\n",
        "plt.show()"
      ],
      "execution_count": 5,
      "outputs": [
        {
          "output_type": "stream",
          "text": [
            "Saving figure perceptron_iris_plot\n"
          ],
          "name": "stdout"
        },
        {
          "output_type": "display_data",
          "data": {
            "image/png": "[encoded data removed]",
            "text/plain": [
              "<Figure size 720x288 with 1 Axes>"
            ]
          },
          "metadata": {
            "tags": [],
            "needs_background": "light"
          }
        }
      ]
    },
    {
      "cell_type": "markdown",
      "metadata": {
        "id": "9eWmIopWidHZ",
        "colab_type": "text"
      },
      "source": [
        "# Activation functions"
      ]
    },
    {
      "cell_type": "code",
      "metadata": {
        "id": "X5d1fsjUidHa",
        "colab_type": "code",
        "colab": {}
      },
      "source": [
        "def sigmoid(z):\n",
        "    return 1 / (1 + np.exp(-z))\n",
        "\n",
        "def relu(z):\n",
        "    return np.maximum(0, z)\n",
        "\n",
        "def derivative(f, z, eps=0.000001):\n",
        "    return (f(z + eps) - f(z - eps))/(2 * eps)"
      ],
      "execution_count": 6,
      "outputs": []
    },
    {
      "cell_type": "code",
      "metadata": {
        "id": "aTLghAawidHg",
        "colab_type": "code",
        "colab": {},
        "outputId": "66697148-b1f0-4551-ce1b-ef19016eb191"
      },
      "source": [
        "z = np.linspace(-5, 5, 200)\n",
        "\n",
        "plt.figure(figsize=(11,4))\n",
        "\n",
        "plt.subplot(121)\n",
        "plt.plot(z, np.sign(z), \"r-\", linewidth=1, label=\"Step\")\n",
        "plt.plot(z, sigmoid(z), \"g--\", linewidth=2, label=\"Sigmoid\")\n",
        "plt.plot(z, np.tanh(z), \"b-\", linewidth=2, label=\"Tanh\")\n",
        "plt.plot(z, relu(z), \"m-.\", linewidth=2, label=\"ReLU\")\n",
        "plt.grid(True)\n",
        "plt.legend(loc=\"center right\", fontsize=14)\n",
        "plt.title(\"Activation functions\", fontsize=14)\n",
        "plt.axis([-5, 5, -1.2, 1.2])\n",
        "\n",
        "plt.subplot(122)\n",
        "plt.plot(z, derivative(np.sign, z), \"r-\", linewidth=1, label=\"Step\")\n",
        "plt.plot(0, 0, \"ro\", markersize=5)\n",
        "plt.plot(0, 0, \"rx\", markersize=10)\n",
        "plt.plot(z, derivative(sigmoid, z), \"g--\", linewidth=2, label=\"Sigmoid\")\n",
        "plt.plot(z, derivative(np.tanh, z), \"b-\", linewidth=2, label=\"Tanh\")\n",
        "plt.plot(z, derivative(relu, z), \"m-.\", linewidth=2, label=\"ReLU\")\n",
        "plt.grid(True)\n",
        "#plt.legend(loc=\"center right\", fontsize=14)\n",
        "plt.title(\"Derivatives\", fontsize=14)\n",
        "plt.axis([-5, 5, -0.2, 1.2])\n",
        "\n",
        "save_fig(\"activation_functions_plot\")\n",
        "plt.show()"
      ],
      "execution_count": null,
      "outputs": [
        {
          "output_type": "stream",
          "text": [
            "Saving figure activation_functions_plot\n"
          ],
          "name": "stdout"
        },
        {
          "output_type": "display_data",
          "data": {
            "image/png": "[encoded data removed]",
            "text/plain": [
              "<Figure size 792x288 with 2 Axes>"
            ]
          },
          "metadata": {
            "tags": [],
            "needs_background": "light"
          }
        }
      ]
    },
    {
      "cell_type": "code",
      "metadata": {
        "id": "KgbIH_N1idHn",
        "colab_type": "code",
        "colab": {}
      },
      "source": [
        "def heaviside(z):\n",
        "    return (z >= 0).astype(z.dtype)\n",
        "\n",
        "def mlp_xor(x1, x2, activation=heaviside):\n",
        "    return activation(-activation(x1 + x2 - 1.5) + activation(x1 + x2 - 0.5) - 0.5)"
      ],
      "execution_count": 7,
      "outputs": []
    },
    {
      "cell_type": "code",
      "metadata": {
        "scrolled": true,
        "id": "k5AogrxFidHr",
        "colab_type": "code",
        "colab": {
          "base_uri": "https://localhost:8080/",
          "height": 284
        },
        "outputId": "898259d6-b536-4ec5-ff34-7722e07387e5"
      },
      "source": [
        "x1s = np.linspace(-0.2, 1.2, 100)\n",
        "x2s = np.linspace(-0.2, 1.2, 100)\n",
        "x1, x2 = np.meshgrid(x1s, x2s)\n",
        "\n",
        "z1 = mlp_xor(x1, x2, activation=heaviside)\n",
        "z2 = mlp_xor(x1, x2, activation=sigmoid)\n",
        "\n",
        "plt.figure(figsize=(10,4))\n",
        "\n",
        "plt.subplot(121)\n",
        "plt.contourf(x1, x2, z1)\n",
        "plt.plot([0, 1], [0, 1], \"gs\", markersize=20)\n",
        "plt.plot([0, 1], [1, 0], \"y^\", markersize=20)\n",
        "plt.title(\"Activation function: heaviside\", fontsize=14)\n",
        "plt.grid(True)\n",
        "\n",
        "plt.subplot(122)\n",
        "plt.contourf(x1, x2, z2)\n",
        "plt.plot([0, 1], [0, 1], \"gs\", markersize=20)\n",
        "plt.plot([0, 1], [1, 0], \"y^\", markersize=20)\n",
        "plt.title(\"Activation function: sigmoid\", fontsize=14)\n",
        "plt.grid(True)"
      ],
      "execution_count": 8,
      "outputs": [
        {
          "output_type": "display_data",
          "data": {
            "image/png": "[encoded data removed]",
            "text/plain": [
              "<Figure size 720x288 with 2 Axes>"
            ]
          },
          "metadata": {
            "tags": [],
            "needs_background": "light"
          }
        }
      ]
    },
    {
      "cell_type": "markdown",
      "metadata": {
        "id": "10Lq2qmsidHv",
        "colab_type": "text"
      },
      "source": [
        "# Building an Image Classifier"
      ]
    },
    {
      "cell_type": "markdown",
      "metadata": {
        "id": "ysIAkrtDidHw",
        "colab_type": "text"
      },
      "source": [
        "First let's import TensorFlow and Keras."
      ]
    },
    {
      "cell_type": "code",
      "metadata": {
        "id": "xoyUwxl0idHx",
        "colab_type": "code",
        "colab": {}
      },
      "source": [
        "import tensorflow as tf\n",
        "from tensorflow import keras"
      ],
      "execution_count": 6,
      "outputs": []
    },
    {
      "cell_type": "code",
      "metadata": {
        "id": "9tELnwVNidHz",
        "colab_type": "code",
        "colab": {
          "base_uri": "https://localhost:8080/",
          "height": 35
        },
        "outputId": "f9ed1cd1-c7a0-47d1-fccd-f0e6bc07cb37"
      },
      "source": [
        "tf.__version__"
      ],
      "execution_count": 7,
      "outputs": [
        {
          "output_type": "execute_result",
          "data": {
            "application/vnd.google.colaboratory.intrinsic+json": {
              "type": "string"
            },
            "text/plain": [
              "'2.2.0'"
            ]
          },
          "metadata": {
            "tags": []
          },
          "execution_count": 7
        }
      ]
    },
    {
      "cell_type": "code",
      "metadata": {
        "id": "RyXi_BRKidH3",
        "colab_type": "code",
        "colab": {
          "base_uri": "https://localhost:8080/",
          "height": 35
        },
        "outputId": "97ec7eaa-057f-4648-e0f1-4cc752a380ad"
      },
      "source": [
        "keras.__version__"
      ],
      "execution_count": 8,
      "outputs": [
        {
          "output_type": "execute_result",
          "data": {
            "application/vnd.google.colaboratory.intrinsic+json": {
              "type": "string"
            },
            "text/plain": [
              "'2.3.0-tf'"
            ]
          },
          "metadata": {
            "tags": []
          },
          "execution_count": 8
        }
      ]
    },
    {
      "cell_type": "markdown",
      "metadata": {
        "id": "yx-okTPKidH7",
        "colab_type": "text"
      },
      "source": [
        "Let's start by loading the fashion MNIST dataset. Keras has a number of functions to load popular datasets in `keras.datasets`. The dataset is already split for you between a training set and a test set, but it can be useful to split the training set further to have a validation set:"
      ]
    },
    {
      "cell_type": "code",
      "metadata": {
        "id": "VfPVcew9idH8",
        "colab_type": "code",
        "colab": {}
      },
      "source": [
        "fashion_mnist = keras.datasets.fashion_mnist\n",
        "(X_train_full, y_train_full), (X_test, y_test) = fashion_mnist.load_data()"
      ],
      "execution_count": 9,
      "outputs": []
    },
    {
      "cell_type": "markdown",
      "metadata": {
        "id": "VEiIat8bidH_",
        "colab_type": "text"
      },
      "source": [
        "The training set contains 60,000 grayscale images, each 28x28 pixels:"
      ]
    },
    {
      "cell_type": "code",
      "metadata": {
        "id": "jWRB6z1pidH_",
        "colab_type": "code",
        "colab": {
          "base_uri": "https://localhost:8080/",
          "height": 34
        },
        "outputId": "b255d574-9be3-429c-9de9-fa308d48b138"
      },
      "source": [
        "X_train_full.shape"
      ],
      "execution_count": 10,
      "outputs": [
        {
          "output_type": "execute_result",
          "data": {
            "text/plain": [
              "(60000, 28, 28)"
            ]
          },
          "metadata": {
            "tags": []
          },
          "execution_count": 10
        }
      ]
    },
    {
      "cell_type": "markdown",
      "metadata": {
        "id": "WtOQpY5AidIC",
        "colab_type": "text"
      },
      "source": [
        "Each pixel intensity is represented as a byte (0 to 255):"
      ]
    },
    {
      "cell_type": "code",
      "metadata": {
        "id": "aRu8jQXRidIC",
        "colab_type": "code",
        "colab": {
          "base_uri": "https://localhost:8080/",
          "height": 34
        },
        "outputId": "e26096a1-8b9e-4415-f6e8-1f633a387e74"
      },
      "source": [
        "X_train_full.dtype"
      ],
      "execution_count": 11,
      "outputs": [
        {
          "output_type": "execute_result",
          "data": {
            "text/plain": [
              "dtype('uint8')"
            ]
          },
          "metadata": {
            "tags": []
          },
          "execution_count": 11
        }
      ]
    },
    {
      "cell_type": "markdown",
      "metadata": {
        "id": "RE1DmqUpidIF",
        "colab_type": "text"
      },
      "source": [
        "Let's split the full training set into a validation set and a (smaller) training set. We also scale the pixel intensities down to the 0-1 range and convert them to floats, by dividing by 255."
      ]
    },
    {
      "cell_type": "code",
      "metadata": {
        "id": "fYm2BcR3idIF",
        "colab_type": "code",
        "colab": {}
      },
      "source": [
        "X_valid, X_train = X_train_full[:5000] / 255., X_train_full[5000:] / 255.\n",
        "y_valid, y_train = y_train_full[:5000], y_train_full[5000:]\n",
        "X_test = X_test / 255."
      ],
      "execution_count": 12,
      "outputs": []
    },
    {
      "cell_type": "markdown",
      "metadata": {
        "id": "2QmU5bI_idIM",
        "colab_type": "text"
      },
      "source": [
        "You can plot an image using Matplotlib's **`imshow()`** function, with a `'binary'`\n",
        " color map:"
      ]
    },
    {
      "cell_type": "code",
      "metadata": {
        "id": "OxwHNxX8idIN",
        "colab_type": "code",
        "colab": {
          "base_uri": "https://localhost:8080/",
          "height": 247
        },
        "outputId": "9d0f007c-5dbe-4aee-f5ee-daf6d15bdace"
      },
      "source": [
        "#M cool function to visualize an image!!!\n",
        "plt.imshow(X_train[0], cmap=\"binary\")\n",
        "plt.axis('off')\n",
        "plt.show()"
      ],
      "execution_count": 13,
      "outputs": [
        {
          "output_type": "display_data",
          "data": {
            "image/png": "[encoded data removed]",
            "text/plain": [
              "<Figure size 432x288 with 1 Axes>"
            ]
          },
          "metadata": {
            "tags": [],
            "needs_background": "light"
          }
        }
      ]
    },
    {
      "cell_type": "markdown",
      "metadata": {
        "id": "LGnIJrCCidIQ",
        "colab_type": "text"
      },
      "source": [
        "The labels are the class IDs (represented as uint8), from 0 to 9:"
      ]
    },
    {
      "cell_type": "code",
      "metadata": {
        "id": "eqyXL8lTidIR",
        "colab_type": "code",
        "colab": {
          "base_uri": "https://localhost:8080/",
          "height": 34
        },
        "outputId": "55bfcac6-2484-434a-d360-59f3577a2e60"
      },
      "source": [
        "y_train"
      ],
      "execution_count": 14,
      "outputs": [
        {
          "output_type": "execute_result",
          "data": {
            "text/plain": [
              "array([4, 0, 7, ..., 3, 0, 5], dtype=uint8)"
            ]
          },
          "metadata": {
            "tags": []
          },
          "execution_count": 14
        }
      ]
    },
    {
      "cell_type": "markdown",
      "metadata": {
        "id": "pxyeYpI6idIT",
        "colab_type": "text"
      },
      "source": [
        "Here are the corresponding class names:"
      ]
    },
    {
      "cell_type": "code",
      "metadata": {
        "id": "Hxrc1sPpidIT",
        "colab_type": "code",
        "colab": {}
      },
      "source": [
        "class_names = [\"T-shirt/top\", \"Trouser\", \"Pullover\", \"Dress\", \"Coat\",\n",
        "               \"Sandal\", \"Shirt\", \"Sneaker\", \"Bag\", \"Ankle boot\"]"
      ],
      "execution_count": 15,
      "outputs": []
    },
    {
      "cell_type": "markdown",
      "metadata": {
        "id": "Epxe4KjHidIV",
        "colab_type": "text"
      },
      "source": [
        "So the first image in the training set is a coat:"
      ]
    },
    {
      "cell_type": "code",
      "metadata": {
        "id": "4feYPCeKidIV",
        "colab_type": "code",
        "colab": {
          "base_uri": "https://localhost:8080/",
          "height": 35
        },
        "outputId": "11b20237-d2db-4b84-d2e1-fd5563b4acd5"
      },
      "source": [
        "class_names[y_train[0]]#M y_train[0] all images with label = 0 belong to the class \"Coat\""
      ],
      "execution_count": 16,
      "outputs": [
        {
          "output_type": "execute_result",
          "data": {
            "application/vnd.google.colaboratory.intrinsic+json": {
              "type": "string"
            },
            "text/plain": [
              "'Coat'"
            ]
          },
          "metadata": {
            "tags": []
          },
          "execution_count": 16
        }
      ]
    },
    {
      "cell_type": "markdown",
      "metadata": {
        "id": "xcB4a8OaidIZ",
        "colab_type": "text"
      },
      "source": [
        "The validation set contains 5,000 images, and the test set contains 10,000 images:"
      ]
    },
    {
      "cell_type": "code",
      "metadata": {
        "id": "m3S-1cnhidIa",
        "colab_type": "code",
        "colab": {
          "base_uri": "https://localhost:8080/",
          "height": 34
        },
        "outputId": "90eac262-470d-4177-ae2c-3967e5707227"
      },
      "source": [
        "X_valid.shape"
      ],
      "execution_count": 17,
      "outputs": [
        {
          "output_type": "execute_result",
          "data": {
            "text/plain": [
              "(5000, 28, 28)"
            ]
          },
          "metadata": {
            "tags": []
          },
          "execution_count": 17
        }
      ]
    },
    {
      "cell_type": "code",
      "metadata": {
        "id": "7fIoG4GwidId",
        "colab_type": "code",
        "colab": {
          "base_uri": "https://localhost:8080/",
          "height": 34
        },
        "outputId": "5f8fee7d-35b7-4ec9-e1a0-6dd5bdeda3c8"
      },
      "source": [
        "X_test.shape"
      ],
      "execution_count": 18,
      "outputs": [
        {
          "output_type": "execute_result",
          "data": {
            "text/plain": [
              "(10000, 28, 28)"
            ]
          },
          "metadata": {
            "tags": []
          },
          "execution_count": 18
        }
      ]
    },
    {
      "cell_type": "markdown",
      "metadata": {
        "id": "kmH3Z3DIidIf",
        "colab_type": "text"
      },
      "source": [
        "Let's take a look at a sample of the images in the dataset:"
      ]
    },
    {
      "cell_type": "code",
      "metadata": {
        "id": "3R-o3sOqidIf",
        "colab_type": "code",
        "colab": {
          "base_uri": "https://localhost:8080/",
          "height": 325
        },
        "outputId": "497eb253-6552-416c-b8e5-2e09d6f7a43d"
      },
      "source": [
        "n_rows = 4\n",
        "n_cols = 10\n",
        "plt.figure(figsize=(n_cols * 1.2, n_rows * 1.2))\n",
        "for row in range(n_rows):\n",
        "    for col in range(n_cols):\n",
        "        index = n_cols * row + col\n",
        "        plt.subplot(n_rows, n_cols, index + 1)\n",
        "        plt.imshow(X_train[index], cmap=\"binary\", interpolation=\"nearest\")\n",
        "        plt.axis('off')\n",
        "        plt.title(class_names[y_train[index]], fontsize=12)\n",
        "plt.subplots_adjust(wspace=0.2, hspace=0.5)\n",
        "save_fig('fashion_mnist_plot', tight_layout=False)\n",
        "plt.show()"
      ],
      "execution_count": 19,
      "outputs": [
        {
          "output_type": "stream",
          "text": [
            "Saving figure fashion_mnist_plot\n"
          ],
          "name": "stdout"
        },
        {
          "output_type": "display_data",
          "data": {
            "image/png": "[encoded data removed]",
            "text/plain": [
              "<Figure size 864x345.6 with 40 Axes>"
            ]
          },
          "metadata": {
            "tags": [],
            "needs_background": "light"
          }
        }
      ]
    },
    {
      "cell_type": "code",
      "metadata": {
        "id": "rFM9zqd4idIh",
        "colab_type": "code",
        "colab": {}
      },
      "source": [
        "model = keras.models.Sequential()\n",
        "model.add(keras.layers.Flatten(input_shape=[28, 28])) #M Flatten was new for me!\n",
        "model.add(keras.layers.Dense(300, activation=\"relu\"))\n",
        "model.add(keras.layers.Dense(100, activation=\"relu\"))\n",
        "model.add(keras.layers.Dense(10, activation=\"softmax\"))"
      ],
      "execution_count": 20,
      "outputs": []
    },
    {
      "cell_type": "code",
      "metadata": {
        "id": "9btSKqp-idIj",
        "colab_type": "code",
        "colab": {}
      },
      "source": [
        "keras.backend.clear_session()\n",
        "np.random.seed(42)\n",
        "tf.random.set_seed(42)"
      ],
      "execution_count": 21,
      "outputs": []
    },
    {
      "cell_type": "code",
      "metadata": {
        "id": "f62b6Yo8idIl",
        "colab_type": "code",
        "colab": {}
      },
      "source": [
        "model = keras.models.Sequential([\n",
        "    keras.layers.Flatten(input_shape=[28, 28]),\n",
        "    keras.layers.Dense(300, activation=\"relu\"),\n",
        "    keras.layers.Dense(100, activation=\"relu\"),\n",
        "    keras.layers.Dense(10, activation=\"softmax\")\n",
        "])"
      ],
      "execution_count": 22,
      "outputs": []
    },
    {
      "cell_type": "code",
      "metadata": {
        "id": "oiZP7rsVidIn",
        "colab_type": "code",
        "colab": {
          "base_uri": "https://localhost:8080/",
          "height": 87
        },
        "outputId": "0b23b03c-44c6-48b8-91f4-e4550d25e523"
      },
      "source": [
        "model.layers"
      ],
      "execution_count": 23,
      "outputs": [
        {
          "output_type": "execute_result",
          "data": {
            "text/plain": [
              "[<tensorflow.python.keras.layers.core.Flatten at 0x7fd38bd10cf8>,\n",
              " <tensorflow.python.keras.layers.core.Dense at 0x7fd38ec04240>,\n",
              " <tensorflow.python.keras.layers.core.Dense at 0x7fd38bd1a0b8>,\n",
              " <tensorflow.python.keras.layers.core.Dense at 0x7fd38bd1a320>]"
            ]
          },
          "metadata": {
            "tags": []
          },
          "execution_count": 23
        }
      ]
    },
    {
      "cell_type": "code",
      "metadata": {
        "id": "F-UK12CoidIp",
        "colab_type": "code",
        "colab": {
          "base_uri": "https://localhost:8080/",
          "height": 301
        },
        "outputId": "d3c41e79-441b-4d40-ee1d-87b216d718a8"
      },
      "source": [
        "model.summary()"
      ],
      "execution_count": 24,
      "outputs": [
        {
          "output_type": "stream",
          "text": [
            "Model: \"sequential\"\n",
            "_________________________________________________________________\n",
            "Layer (type)                 Output Shape              Param #   \n",
            "=================================================================\n",
            "flatten (Flatten)            (None, 784)               0         \n",
            "_________________________________________________________________\n",
            "dense (Dense)                (None, 300)               235500    \n",
            "_________________________________________________________________\n",
            "dense_1 (Dense)              (None, 100)               30100     \n",
            "_________________________________________________________________\n",
            "dense_2 (Dense)              (None, 10)                1010      \n",
            "=================================================================\n",
            "Total params: 266,610\n",
            "Trainable params: 266,610\n",
            "Non-trainable params: 0\n",
            "_________________________________________________________________\n"
          ],
          "name": "stdout"
        }
      ]
    },
    {
      "cell_type": "code",
      "metadata": {
        "id": "D5Pz3n5VidIr",
        "colab_type": "code",
        "colab": {
          "base_uri": "https://localhost:8080/",
          "height": 533
        },
        "outputId": "978eb763-9eac-4a93-ce47-5d6d66fe2616"
      },
      "source": [
        "keras.utils.plot_model(model, \"my_fashion_mnist_model.png\", show_shapes=True)"
      ],
      "execution_count": 25,
      "outputs": [
        {
          "output_type": "execute_result",
          "data": {
            "image/png": "[encoded data removed]",
            "text/plain": [
              "<IPython.core.display.Image object>"
            ]
          },
          "metadata": {
            "tags": []
          },
          "execution_count": 25
        }
      ]
    },
    {
      "cell_type": "code",
      "metadata": {
        "id": "w9d_30aPidIt",
        "colab_type": "code",
        "colab": {
          "base_uri": "https://localhost:8080/",
          "height": 35
        },
        "outputId": "4fb426a8-4eaf-4ccf-d6fc-6c1be369462a"
      },
      "source": [
        "hidden1 = model.layers[1]\n",
        "hidden1.name"
      ],
      "execution_count": 26,
      "outputs": [
        {
          "output_type": "execute_result",
          "data": {
            "application/vnd.google.colaboratory.intrinsic+json": {
              "type": "string"
            },
            "text/plain": [
              "'dense'"
            ]
          },
          "metadata": {
            "tags": []
          },
          "execution_count": 26
        }
      ]
    },
    {
      "cell_type": "code",
      "metadata": {
        "id": "gyUqGliyidIv",
        "colab_type": "code",
        "colab": {
          "base_uri": "https://localhost:8080/",
          "height": 34
        },
        "outputId": "68c9650c-a1fc-4252-98b7-5b37cb50624d"
      },
      "source": [
        "model.get_layer(hidden1.name) is hidden1"
      ],
      "execution_count": 27,
      "outputs": [
        {
          "output_type": "execute_result",
          "data": {
            "text/plain": [
              "True"
            ]
          },
          "metadata": {
            "tags": []
          },
          "execution_count": 27
        }
      ]
    },
    {
      "cell_type": "code",
      "metadata": {
        "id": "DrdjxOLkwJHa",
        "colab_type": "code",
        "colab": {
          "base_uri": "https://localhost:8080/",
          "height": 34
        },
        "outputId": "2adb27d2-8ebe-45d5-cd0f-9f7695f9795f"
      },
      "source": [
        "#M\n",
        "hidden1"
      ],
      "execution_count": 28,
      "outputs": [
        {
          "output_type": "execute_result",
          "data": {
            "text/plain": [
              "<tensorflow.python.keras.layers.core.Dense at 0x7fd38ec04240>"
            ]
          },
          "metadata": {
            "tags": []
          },
          "execution_count": 28
        }
      ]
    },
    {
      "cell_type": "code",
      "metadata": {
        "id": "Z1unzLZHidIx",
        "colab_type": "code",
        "colab": {}
      },
      "source": [
        "weights, biases = hidden1.get_weights()"
      ],
      "execution_count": 29,
      "outputs": []
    },
    {
      "cell_type": "code",
      "metadata": {
        "id": "_41GrpTCidIz",
        "colab_type": "code",
        "colab": {
          "base_uri": "https://localhost:8080/",
          "height": 247
        },
        "outputId": "2f267692-5308-4cab-ce1b-cea95656f4c4"
      },
      "source": [
        "weights"
      ],
      "execution_count": 30,
      "outputs": [
        {
          "output_type": "execute_result",
          "data": {
            "text/plain": [
              "array([[ 0.02448617, -0.00877795, -0.02189048, ..., -0.02766046,\n",
              "         0.03859074, -0.06889391],\n",
              "       [ 0.00476504, -0.03105379, -0.0586676 , ...,  0.00602964,\n",
              "        -0.02763776, -0.04165364],\n",
              "       [-0.06189284, -0.06901957,  0.07102345, ..., -0.04238207,\n",
              "         0.07121518, -0.07331658],\n",
              "       ...,\n",
              "       [-0.03048757,  0.02155137, -0.05400612, ..., -0.00113463,\n",
              "         0.00228987,  0.05581069],\n",
              "       [ 0.07061854, -0.06960931,  0.07038955, ..., -0.00384101,\n",
              "         0.00034875,  0.02878492],\n",
              "       [-0.06022581,  0.01577859, -0.02585464, ..., -0.00527829,\n",
              "         0.00272203, -0.06793761]], dtype=float32)"
            ]
          },
          "metadata": {
            "tags": []
          },
          "execution_count": 30
        }
      ]
    },
    {
      "cell_type": "code",
      "metadata": {
        "id": "BX6_ZPBwidI1",
        "colab_type": "code",
        "colab": {
          "base_uri": "https://localhost:8080/",
          "height": 34
        },
        "outputId": "2ffb51c1-9e6f-43a5-858b-b225ec8e5ec3"
      },
      "source": [
        "weights.shape"
      ],
      "execution_count": 31,
      "outputs": [
        {
          "output_type": "execute_result",
          "data": {
            "text/plain": [
              "(784, 300)"
            ]
          },
          "metadata": {
            "tags": []
          },
          "execution_count": 31
        }
      ]
    },
    {
      "cell_type": "code",
      "metadata": {
        "id": "MGGvZsk5idI3",
        "colab_type": "code",
        "colab": {
          "base_uri": "https://localhost:8080/",
          "height": 336
        },
        "outputId": "721986c0-b4c1-4385-91fc-4957f7a23292"
      },
      "source": [
        "biases"
      ],
      "execution_count": 32,
      "outputs": [
        {
          "output_type": "execute_result",
          "data": {
            "text/plain": [
              "array([0., 0., 0., 0., 0., 0., 0., 0., 0., 0., 0., 0., 0., 0., 0., 0., 0.,\n",
              "       0., 0., 0., 0., 0., 0., 0., 0., 0., 0., 0., 0., 0., 0., 0., 0., 0.,\n",
              "       0., 0., 0., 0., 0., 0., 0., 0., 0., 0., 0., 0., 0., 0., 0., 0., 0.,\n",
              "       0., 0., 0., 0., 0., 0., 0., 0., 0., 0., 0., 0., 0., 0., 0., 0., 0.,\n",
              "       0., 0., 0., 0., 0., 0., 0., 0., 0., 0., 0., 0., 0., 0., 0., 0., 0.,\n",
              "       0., 0., 0., 0., 0., 0., 0., 0., 0., 0., 0., 0., 0., 0., 0., 0., 0.,\n",
              "       0., 0., 0., 0., 0., 0., 0., 0., 0., 0., 0., 0., 0., 0., 0., 0., 0.,\n",
              "       0., 0., 0., 0., 0., 0., 0., 0., 0., 0., 0., 0., 0., 0., 0., 0., 0.,\n",
              "       0., 0., 0., 0., 0., 0., 0., 0., 0., 0., 0., 0., 0., 0., 0., 0., 0.,\n",
              "       0., 0., 0., 0., 0., 0., 0., 0., 0., 0., 0., 0., 0., 0., 0., 0., 0.,\n",
              "       0., 0., 0., 0., 0., 0., 0., 0., 0., 0., 0., 0., 0., 0., 0., 0., 0.,\n",
              "       0., 0., 0., 0., 0., 0., 0., 0., 0., 0., 0., 0., 0., 0., 0., 0., 0.,\n",
              "       0., 0., 0., 0., 0., 0., 0., 0., 0., 0., 0., 0., 0., 0., 0., 0., 0.,\n",
              "       0., 0., 0., 0., 0., 0., 0., 0., 0., 0., 0., 0., 0., 0., 0., 0., 0.,\n",
              "       0., 0., 0., 0., 0., 0., 0., 0., 0., 0., 0., 0., 0., 0., 0., 0., 0.,\n",
              "       0., 0., 0., 0., 0., 0., 0., 0., 0., 0., 0., 0., 0., 0., 0., 0., 0.,\n",
              "       0., 0., 0., 0., 0., 0., 0., 0., 0., 0., 0., 0., 0., 0., 0., 0., 0.,\n",
              "       0., 0., 0., 0., 0., 0., 0., 0., 0., 0., 0.], dtype=float32)"
            ]
          },
          "metadata": {
            "tags": []
          },
          "execution_count": 32
        }
      ]
    },
    {
      "cell_type": "code",
      "metadata": {
        "id": "m9pDrgrxidI6",
        "colab_type": "code",
        "colab": {
          "base_uri": "https://localhost:8080/",
          "height": 34
        },
        "outputId": "322ad1c7-392e-44da-d7e6-d9ac3aa611ce"
      },
      "source": [
        "biases.shape"
      ],
      "execution_count": 33,
      "outputs": [
        {
          "output_type": "execute_result",
          "data": {
            "text/plain": [
              "(300,)"
            ]
          },
          "metadata": {
            "tags": []
          },
          "execution_count": 33
        }
      ]
    },
    {
      "cell_type": "code",
      "metadata": {
        "id": "--I3zomAidI8",
        "colab_type": "code",
        "colab": {}
      },
      "source": [
        "model.compile(loss=\"sparse_categorical_crossentropy\", #for each instance, there is just a target class index, from 0 to 9 and the classes are exclusive.\n",
        "              optimizer=\"sgd\",\n",
        "              metrics=[\"accuracy\"])"
      ],
      "execution_count": 34,
      "outputs": []
    },
    {
      "cell_type": "markdown",
      "metadata": {
        "id": "JWjx22NwidI9",
        "colab_type": "text"
      },
      "source": [
        "This is equivalent to:"
      ]
    },
    {
      "cell_type": "markdown",
      "metadata": {
        "id": "1XTsBZOuidI-",
        "colab_type": "text"
      },
      "source": [
        "```python\n",
        "model.compile(loss=keras.losses.sparse_categorical_crossentropy,\n",
        "              optimizer=keras.optimizers.SGD(),\n",
        "              metrics=[keras.metrics.sparse_categorical_accuracy])\n",
        "```"
      ]
    },
    {
      "cell_type": "code",
      "metadata": {
        "id": "SDaY5i-3idI-",
        "colab_type": "code",
        "colab": {
          "base_uri": "https://localhost:8080/",
          "height": 194
        },
        "outputId": "88990c1d-5b1e-4e8c-c29d-238c07b3d336"
      },
      "source": [
        "history = model.fit(X_train, y_train, epochs=5,\n",
        "                    validation_data=(X_valid, y_valid))"
      ],
      "execution_count": 35,
      "outputs": [
        {
          "output_type": "stream",
          "text": [
            "Epoch 1/5\n",
            "1719/1719 [==============================] - 7s 4ms/step - loss: 0.7237 - accuracy: 0.7643 - val_loss: 0.5213 - val_accuracy: 0.8226\n",
            "Epoch 2/5\n",
            "1719/1719 [==============================] - 6s 3ms/step - loss: 0.4842 - accuracy: 0.8318 - val_loss: 0.4353 - val_accuracy: 0.8526\n",
            "Epoch 3/5\n",
            "1719/1719 [==============================] - 6s 3ms/step - loss: 0.4391 - accuracy: 0.8458 - val_loss: 0.5304 - val_accuracy: 0.7996\n",
            "Epoch 4/5\n",
            "1719/1719 [==============================] - 6s 3ms/step - loss: 0.4123 - accuracy: 0.8566 - val_loss: 0.3916 - val_accuracy: 0.8650\n",
            "Epoch 5/5\n",
            "1719/1719 [==============================] - 6s 3ms/step - loss: 0.3939 - accuracy: 0.8622 - val_loss: 0.3745 - val_accuracy: 0.8690\n"
          ],
          "name": "stdout"
        }
      ]
    },
    {
      "cell_type": "code",
      "metadata": {
        "id": "stYC36zoidJB",
        "colab_type": "code",
        "colab": {
          "base_uri": "https://localhost:8080/",
          "height": 34
        },
        "outputId": "de6c4eef-2e65-4b82-ecb2-7d2cff525990"
      },
      "source": [
        "history.params"
      ],
      "execution_count": 46,
      "outputs": [
        {
          "output_type": "execute_result",
          "data": {
            "text/plain": [
              "{'epochs': 5, 'steps': 1719, 'verbose': 1}"
            ]
          },
          "metadata": {
            "tags": []
          },
          "execution_count": 46
        }
      ]
    },
    {
      "cell_type": "code",
      "metadata": {
        "id": "hv0RTyC1idJD",
        "colab_type": "code",
        "colab": {
          "base_uri": "https://localhost:8080/",
          "height": 34
        },
        "outputId": "c8944d6c-c491-4162-f2dc-e4c1d4b7fa03"
      },
      "source": [
        "print(history.epoch)"
      ],
      "execution_count": 47,
      "outputs": [
        {
          "output_type": "stream",
          "text": [
            "[0, 1, 2, 3, 4]\n"
          ],
          "name": "stdout"
        }
      ]
    },
    {
      "cell_type": "code",
      "metadata": {
        "id": "RpvkolxiidJF",
        "colab_type": "code",
        "colab": {
          "base_uri": "https://localhost:8080/",
          "height": 34
        },
        "outputId": "2c4a34b7-1776-491f-db4b-e9a1eb3af0df"
      },
      "source": [
        "history.history.keys()"
      ],
      "execution_count": 48,
      "outputs": [
        {
          "output_type": "execute_result",
          "data": {
            "text/plain": [
              "dict_keys(['loss', 'accuracy', 'val_loss', 'val_accuracy'])"
            ]
          },
          "metadata": {
            "tags": []
          },
          "execution_count": 48
        }
      ]
    },
    {
      "cell_type": "code",
      "metadata": {
        "id": "ubaPlLOoidJH",
        "colab_type": "code",
        "colab": {
          "base_uri": "https://localhost:8080/",
          "height": 688
        },
        "outputId": "607c3d40-02ab-4150-b900-0b58a1eed521"
      },
      "source": [
        "import pandas as pd\n",
        "pd.options.plotting.backend='matplotlib'\n",
        "\n",
        "from sklearn.metrics import classification_report, confusion_matrix\n",
        "#predictions =model.predict_classes(X_test) # model.predict_classes will be deprecated therefore I should use the code below\n",
        "predictions = np.argmax(model.predict(X_test), axis=-1)\n",
        "print(classification_report(y_test, predictions))\n",
        "\n",
        "pd.DataFrame(history.history).plot(figsize=(8, 5))\n",
        "plt.grid(True)\n",
        "#plt.gca().set_ylim(0, 1)\n",
        "plt.ylim(0, 1) #M this option would do the same but its simpler\n",
        "save_fig(\"keras_learning_curves_plot\")\n",
        "plt.show()"
      ],
      "execution_count": 63,
      "outputs": [
        {
          "output_type": "stream",
          "text": [
            "              precision    recall  f1-score   support\n",
            "\n",
            "           0       0.85      0.78      0.81      1000\n",
            "           1       0.99      0.95      0.97      1000\n",
            "           2       0.74      0.78      0.76      1000\n",
            "           3       0.79      0.90      0.84      1000\n",
            "           4       0.76      0.76      0.76      1000\n",
            "           5       0.94      0.94      0.94      1000\n",
            "           6       0.66      0.59      0.62      1000\n",
            "           7       0.90      0.95      0.92      1000\n",
            "           8       0.95      0.94      0.95      1000\n",
            "           9       0.96      0.93      0.95      1000\n",
            "\n",
            "    accuracy                           0.85     10000\n",
            "   macro avg       0.85      0.85      0.85     10000\n",
            "weighted avg       0.85      0.85      0.85     10000\n",
            "\n",
            "Saving figure keras_learning_curves_plot\n"
          ],
          "name": "stdout"
        },
        {
          "output_type": "display_data",
          "data": {
            "image/png": "[encoded data removed]",
            "text/plain": [
              "<Figure size 576x360 with 1 Axes>"
            ]
          },
          "metadata": {
            "tags": [],
            "needs_background": "light"
          }
        }
      ]
    },
    {
      "cell_type": "code",
      "metadata": {
        "id": "l1bzU1cf9M3V",
        "colab_type": "code",
        "colab": {
          "base_uri": "https://localhost:8080/",
          "height": 718
        },
        "outputId": "9385d1b1-c626-49dd-8776-e6d7d4a630e3"
      },
      "source": [
        "#M to do the same but with plotly\n",
        "\n",
        "import pandas as pd\n",
        "pd.options.plotting.backend='plotly'\n",
        "\n",
        "from sklearn.metrics import classification_report, confusion_matrix\n",
        "#predictions =model.predict_classes(X_test) # model.predict_classes will be deprecated therefore I should use the code below\n",
        "predictions = np.argmax(model.predict(X_test), axis=-1)\n",
        "print(classification_report(y_test, predictions))\n",
        "\n",
        "pd.DataFrame(history.history).plot(height=400, width=800)"
      ],
      "execution_count": 66,
      "outputs": [
        {
          "output_type": "stream",
          "text": [
            "              precision    recall  f1-score   support\n",
            "\n",
            "           0       0.85      0.78      0.81      1000\n",
            "           1       0.99      0.95      0.97      1000\n",
            "           2       0.74      0.78      0.76      1000\n",
            "           3       0.79      0.90      0.84      1000\n",
            "           4       0.76      0.76      0.76      1000\n",
            "           5       0.94      0.94      0.94      1000\n",
            "           6       0.66      0.59      0.62      1000\n",
            "           7       0.90      0.95      0.92      1000\n",
            "           8       0.95      0.94      0.95      1000\n",
            "           9       0.96      0.93      0.95      1000\n",
            "\n",
            "    accuracy                           0.85     10000\n",
            "   macro avg       0.85      0.85      0.85     10000\n",
            "weighted avg       0.85      0.85      0.85     10000\n",
            "\n"
          ],
          "name": "stdout"
        },
        {
          "output_type": "display_data",
          "data": {
            "text/html": [
              "<html>\n",
              "<head><meta charset=\"utf-8\" /></head>\n",
              "<body>\n",
              "    <div>\n",
              "            <script src=\"https://cdnjs.cloudflare.com/ajax/libs/mathjax/2.7.5/MathJax.js?config=TeX-AMS-MML_SVG\"></script><script type=\"text/javascript\">if (window.MathJax) {MathJax.Hub.Config({SVG: {font: \"STIX-Web\"}});}</script>\n",
              "                <script type=\"text/javascript\">window.PlotlyConfig = {MathJaxConfig: 'local'};</script>\n",
              "        <script src=\"https://cdn.plot.ly/plotly-latest.min.js\"></script>    \n",
              "            <div id=\"a3e7b4fa-b1d1-4ec6-a4f7-f1d733fa86f8\" class=\"plotly-graph-div\" style=\"height:400px; width:800px;\"></div>\n",
              "            <script type=\"text/javascript\">\n",
              "                \n",
              "                    window.PLOTLYENV=window.PLOTLYENV || {};\n",
              "                    \n",
              "                if (document.getElementById(\"a3e7b4fa-b1d1-4ec6-a4f7-f1d733fa86f8\")) {\n",
              "                    Plotly.newPlot(\n",
              "                        'a3e7b4fa-b1d1-4ec6-a4f7-f1d733fa86f8',\n",
              "                        [{\"hovertemplate\": \"variable=loss<br>index=%{x}<br>value=%{y}<extra></extra>\", \"legendgroup\": \"loss\", \"line\": {\"color\": \"#636efa\", \"dash\": \"solid\"}, \"mode\": \"lines\", \"name\": \"loss\", \"orientation\": \"v\", \"showlegend\": true, \"type\": \"scatter\", \"x\": [0, 1, 2, 3, 4], \"xaxis\": \"x\", \"y\": [0.7237027883529663, 0.484192818403244, 0.4390644133090973, 0.41230905055999756, 0.39393678307533264], \"yaxis\": \"y\"}, {\"hovertemplate\": \"variable=accuracy<br>index=%{x}<br>value=%{y}<extra></extra>\", \"legendgroup\": \"accuracy\", \"line\": {\"color\": \"#EF553B\", \"dash\": \"solid\"}, \"mode\": \"lines\", \"name\": \"accuracy\", \"orientation\": \"v\", \"showlegend\": true, \"type\": \"scatter\", \"x\": [0, 1, 2, 3, 4], \"xaxis\": \"x\", \"y\": [0.7643091082572937, 0.831781804561615, 0.8457818031311035, 0.8565636277198792, 0.8622363805770874], \"yaxis\": \"y\"}, {\"hovertemplate\": \"variable=val_loss<br>index=%{x}<br>value=%{y}<extra></extra>\", \"legendgroup\": \"val_loss\", \"line\": {\"color\": \"#00cc96\", \"dash\": \"solid\"}, \"mode\": \"lines\", \"name\": \"val_loss\", \"orientation\": \"v\", \"showlegend\": true, \"type\": \"scatter\", \"x\": [0, 1, 2, 3, 4], \"xaxis\": \"x\", \"y\": [0.5213178396224976, 0.4353218674659729, 0.5304244756698608, 0.3915894627571106, 0.3745119273662567], \"yaxis\": \"y\"}, {\"hovertemplate\": \"variable=val_accuracy<br>index=%{x}<br>value=%{y}<extra></extra>\", \"legendgroup\": \"val_accuracy\", \"line\": {\"color\": \"#ab63fa\", \"dash\": \"solid\"}, \"mode\": \"lines\", \"name\": \"val_accuracy\", \"orientation\": \"v\", \"showlegend\": true, \"type\": \"scatter\", \"x\": [0, 1, 2, 3, 4], \"xaxis\": \"x\", \"y\": [0.8226000070571899, 0.8525999784469604, 0.7996000051498413, 0.8650000095367432, 0.8690000176429749], \"yaxis\": \"y\"}],\n",
              "                        {\"height\": 400, \"legend\": {\"title\": {\"text\": \"variable\"}, \"tracegroupgap\": 0}, \"margin\": {\"t\": 60}, \"template\": {\"data\": {\"bar\": [{\"error_x\": {\"color\": \"#2a3f5f\"}, \"error_y\": {\"color\": \"#2a3f5f\"}, \"marker\": {\"line\": {\"color\": \"#E5ECF6\", \"width\": 0.5}}, \"type\": \"bar\"}], \"barpolar\": [{\"marker\": {\"line\": {\"color\": \"#E5ECF6\", \"width\": 0.5}}, \"type\": \"barpolar\"}], \"carpet\": [{\"aaxis\": {\"endlinecolor\": \"#2a3f5f\", \"gridcolor\": \"white\", \"linecolor\": \"white\", \"minorgridcolor\": \"white\", \"startlinecolor\": \"#2a3f5f\"}, \"baxis\": {\"endlinecolor\": \"#2a3f5f\", \"gridcolor\": \"white\", \"linecolor\": \"white\", \"minorgridcolor\": \"white\", \"startlinecolor\": \"#2a3f5f\"}, \"type\": \"carpet\"}], \"choropleth\": [{\"colorbar\": {\"outlinewidth\": 0, \"ticks\": \"\"}, \"type\": \"choropleth\"}], \"contour\": [{\"colorbar\": {\"outlinewidth\": 0, \"ticks\": \"\"}, \"colorscale\": [[0.0, \"#0d0887\"], [0.1111111111111111, \"#46039f\"], [0.2222222222222222, \"#7201a8\"], [0.3333333333333333, \"#9c179e\"], [0.4444444444444444, \"#bd3786\"], [0.5555555555555556, \"#d8576b\"], [0.6666666666666666, \"#ed7953\"], [0.7777777777777778, \"#fb9f3a\"], [0.8888888888888888, \"#fdca26\"], [1.0, \"#f0f921\"]], \"type\": \"contour\"}], \"contourcarpet\": [{\"colorbar\": {\"outlinewidth\": 0, \"ticks\": \"\"}, \"type\": \"contourcarpet\"}], \"heatmap\": [{\"colorbar\": {\"outlinewidth\": 0, \"ticks\": \"\"}, \"colorscale\": [[0.0, \"#0d0887\"], [0.1111111111111111, \"#46039f\"], [0.2222222222222222, \"#7201a8\"], [0.3333333333333333, \"#9c179e\"], [0.4444444444444444, \"#bd3786\"], [0.5555555555555556, \"#d8576b\"], [0.6666666666666666, \"#ed7953\"], [0.7777777777777778, \"#fb9f3a\"], [0.8888888888888888, \"#fdca26\"], [1.0, \"#f0f921\"]], \"type\": \"heatmap\"}], \"heatmapgl\": [{\"colorbar\": {\"outlinewidth\": 0, \"ticks\": \"\"}, \"colorscale\": [[0.0, \"#0d0887\"], [0.1111111111111111, \"#46039f\"], [0.2222222222222222, \"#7201a8\"], [0.3333333333333333, \"#9c179e\"], [0.4444444444444444, \"#bd3786\"], [0.5555555555555556, \"#d8576b\"], [0.6666666666666666, \"#ed7953\"], [0.7777777777777778, \"#fb9f3a\"], [0.8888888888888888, \"#fdca26\"], [1.0, \"#f0f921\"]], \"type\": \"heatmapgl\"}], \"histogram\": [{\"marker\": {\"colorbar\": {\"outlinewidth\": 0, \"ticks\": \"\"}}, \"type\": \"histogram\"}], \"histogram2d\": [{\"colorbar\": {\"outlinewidth\": 0, \"ticks\": \"\"}, \"colorscale\": [[0.0, \"#0d0887\"], [0.1111111111111111, \"#46039f\"], [0.2222222222222222, \"#7201a8\"], [0.3333333333333333, \"#9c179e\"], [0.4444444444444444, \"#bd3786\"], [0.5555555555555556, \"#d8576b\"], [0.6666666666666666, \"#ed7953\"], [0.7777777777777778, \"#fb9f3a\"], [0.8888888888888888, \"#fdca26\"], [1.0, \"#f0f921\"]], \"type\": \"histogram2d\"}], \"histogram2dcontour\": [{\"colorbar\": {\"outlinewidth\": 0, \"ticks\": \"\"}, \"colorscale\": [[0.0, \"#0d0887\"], [0.1111111111111111, \"#46039f\"], [0.2222222222222222, \"#7201a8\"], [0.3333333333333333, \"#9c179e\"], [0.4444444444444444, \"#bd3786\"], [0.5555555555555556, \"#d8576b\"], [0.6666666666666666, \"#ed7953\"], [0.7777777777777778, \"#fb9f3a\"], [0.8888888888888888, \"#fdca26\"], [1.0, \"#f0f921\"]], \"type\": \"histogram2dcontour\"}], \"mesh3d\": [{\"colorbar\": {\"outlinewidth\": 0, \"ticks\": \"\"}, \"type\": \"mesh3d\"}], \"parcoords\": [{\"line\": {\"colorbar\": {\"outlinewidth\": 0, \"ticks\": \"\"}}, \"type\": \"parcoords\"}], \"pie\": [{\"automargin\": true, \"type\": \"pie\"}], \"scatter\": [{\"marker\": {\"colorbar\": {\"outlinewidth\": 0, \"ticks\": \"\"}}, \"type\": \"scatter\"}], \"scatter3d\": [{\"line\": {\"colorbar\": {\"outlinewidth\": 0, \"ticks\": \"\"}}, \"marker\": {\"colorbar\": {\"outlinewidth\": 0, \"ticks\": \"\"}}, \"type\": \"scatter3d\"}], \"scattercarpet\": [{\"marker\": {\"colorbar\": {\"outlinewidth\": 0, \"ticks\": \"\"}}, \"type\": \"scattercarpet\"}], \"scattergeo\": [{\"marker\": {\"colorbar\": {\"outlinewidth\": 0, \"ticks\": \"\"}}, \"type\": \"scattergeo\"}], \"scattergl\": [{\"marker\": {\"colorbar\": {\"outlinewidth\": 0, \"ticks\": \"\"}}, \"type\": \"scattergl\"}], \"scattermapbox\": [{\"marker\": {\"colorbar\": {\"outlinewidth\": 0, \"ticks\": \"\"}}, \"type\": \"scattermapbox\"}], \"scatterpolar\": [{\"marker\": {\"colorbar\": {\"outlinewidth\": 0, \"ticks\": \"\"}}, \"type\": \"scatterpolar\"}], \"scatterpolargl\": [{\"marker\": {\"colorbar\": {\"outlinewidth\": 0, \"ticks\": \"\"}}, \"type\": \"scatterpolargl\"}], \"scatterternary\": [{\"marker\": {\"colorbar\": {\"outlinewidth\": 0, \"ticks\": \"\"}}, \"type\": \"scatterternary\"}], \"surface\": [{\"colorbar\": {\"outlinewidth\": 0, \"ticks\": \"\"}, \"colorscale\": [[0.0, \"#0d0887\"], [0.1111111111111111, \"#46039f\"], [0.2222222222222222, \"#7201a8\"], [0.3333333333333333, \"#9c179e\"], [0.4444444444444444, \"#bd3786\"], [0.5555555555555556, \"#d8576b\"], [0.6666666666666666, \"#ed7953\"], [0.7777777777777778, \"#fb9f3a\"], [0.8888888888888888, \"#fdca26\"], [1.0, \"#f0f921\"]], \"type\": \"surface\"}], \"table\": [{\"cells\": {\"fill\": {\"color\": \"#EBF0F8\"}, \"line\": {\"color\": \"white\"}}, \"header\": {\"fill\": {\"color\": \"#C8D4E3\"}, \"line\": {\"color\": \"white\"}}, \"type\": \"table\"}]}, \"layout\": {\"annotationdefaults\": {\"arrowcolor\": \"#2a3f5f\", \"arrowhead\": 0, \"arrowwidth\": 1}, \"coloraxis\": {\"colorbar\": {\"outlinewidth\": 0, \"ticks\": \"\"}}, \"colorscale\": {\"diverging\": [[0, \"#8e0152\"], [0.1, \"#c51b7d\"], [0.2, \"#de77ae\"], [0.3, \"#f1b6da\"], [0.4, \"#fde0ef\"], [0.5, \"#f7f7f7\"], [0.6, \"#e6f5d0\"], [0.7, \"#b8e186\"], [0.8, \"#7fbc41\"], [0.9, \"#4d9221\"], [1, \"#276419\"]], \"sequential\": [[0.0, \"#0d0887\"], [0.1111111111111111, \"#46039f\"], [0.2222222222222222, \"#7201a8\"], [0.3333333333333333, \"#9c179e\"], [0.4444444444444444, \"#bd3786\"], [0.5555555555555556, \"#d8576b\"], [0.6666666666666666, \"#ed7953\"], [0.7777777777777778, \"#fb9f3a\"], [0.8888888888888888, \"#fdca26\"], [1.0, \"#f0f921\"]], \"sequentialminus\": [[0.0, \"#0d0887\"], [0.1111111111111111, \"#46039f\"], [0.2222222222222222, \"#7201a8\"], [0.3333333333333333, \"#9c179e\"], [0.4444444444444444, \"#bd3786\"], [0.5555555555555556, \"#d8576b\"], [0.6666666666666666, \"#ed7953\"], [0.7777777777777778, \"#fb9f3a\"], [0.8888888888888888, \"#fdca26\"], [1.0, \"#f0f921\"]]}, \"colorway\": [\"#636efa\", \"#EF553B\", \"#00cc96\", \"#ab63fa\", \"#FFA15A\", \"#19d3f3\", \"#FF6692\", \"#B6E880\", \"#FF97FF\", \"#FECB52\"], \"font\": {\"color\": \"#2a3f5f\"}, \"geo\": {\"bgcolor\": \"white\", \"lakecolor\": \"white\", \"landcolor\": \"#E5ECF6\", \"showlakes\": true, \"showland\": true, \"subunitcolor\": \"white\"}, \"hoverlabel\": {\"align\": \"left\"}, \"hovermode\": \"closest\", \"mapbox\": {\"style\": \"light\"}, \"paper_bgcolor\": \"white\", \"plot_bgcolor\": \"#E5ECF6\", \"polar\": {\"angularaxis\": {\"gridcolor\": \"white\", \"linecolor\": \"white\", \"ticks\": \"\"}, \"bgcolor\": \"#E5ECF6\", \"radialaxis\": {\"gridcolor\": \"white\", \"linecolor\": \"white\", \"ticks\": \"\"}}, \"scene\": {\"xaxis\": {\"backgroundcolor\": \"#E5ECF6\", \"gridcolor\": \"white\", \"gridwidth\": 2, \"linecolor\": \"white\", \"showbackground\": true, \"ticks\": \"\", \"zerolinecolor\": \"white\"}, \"yaxis\": {\"backgroundcolor\": \"#E5ECF6\", \"gridcolor\": \"white\", \"gridwidth\": 2, \"linecolor\": \"white\", \"showbackground\": true, \"ticks\": \"\", \"zerolinecolor\": \"white\"}, \"zaxis\": {\"backgroundcolor\": \"#E5ECF6\", \"gridcolor\": \"white\", \"gridwidth\": 2, \"linecolor\": \"white\", \"showbackground\": true, \"ticks\": \"\", \"zerolinecolor\": \"white\"}}, \"shapedefaults\": {\"line\": {\"color\": \"#2a3f5f\"}}, \"ternary\": {\"aaxis\": {\"gridcolor\": \"white\", \"linecolor\": \"white\", \"ticks\": \"\"}, \"baxis\": {\"gridcolor\": \"white\", \"linecolor\": \"white\", \"ticks\": \"\"}, \"bgcolor\": \"#E5ECF6\", \"caxis\": {\"gridcolor\": \"white\", \"linecolor\": \"white\", \"ticks\": \"\"}}, \"title\": {\"x\": 0.05}, \"xaxis\": {\"automargin\": true, \"gridcolor\": \"white\", \"linecolor\": \"white\", \"ticks\": \"\", \"title\": {\"standoff\": 15}, \"zerolinecolor\": \"white\", \"zerolinewidth\": 2}, \"yaxis\": {\"automargin\": true, \"gridcolor\": \"white\", \"linecolor\": \"white\", \"ticks\": \"\", \"title\": {\"standoff\": 15}, \"zerolinecolor\": \"white\", \"zerolinewidth\": 2}}}, \"width\": 800, \"xaxis\": {\"anchor\": \"y\", \"domain\": [0.0, 1.0], \"title\": {\"text\": \"index\"}}, \"yaxis\": {\"anchor\": \"x\", \"domain\": [0.0, 1.0], \"title\": {\"text\": \"value\"}}},\n",
              "                        {\"responsive\": true}\n",
              "                    ).then(function(){\n",
              "                            \n",
              "var gd = document.getElementById('a3e7b4fa-b1d1-4ec6-a4f7-f1d733fa86f8');\n",
              "var x = new MutationObserver(function (mutations, observer) {{\n",
              "        var display = window.getComputedStyle(gd).display;\n",
              "        if (!display || display === 'none') {{\n",
              "            console.log([gd, 'removed!']);\n",
              "            Plotly.purge(gd);\n",
              "            observer.disconnect();\n",
              "        }}\n",
              "}});\n",
              "\n",
              "// Listen for the removal of the full notebook cells\n",
              "var notebookContainer = gd.closest('#notebook-container');\n",
              "if (notebookContainer) {{\n",
              "    x.observe(notebookContainer, {childList: true});\n",
              "}}\n",
              "\n",
              "// Listen for the clearing of the current output cell\n",
              "var outputEl = gd.closest('.output');\n",
              "if (outputEl) {{\n",
              "    x.observe(outputEl, {childList: true});\n",
              "}}\n",
              "\n",
              "                        })\n",
              "                };\n",
              "                \n",
              "            </script>\n",
              "        </div>\n",
              "</body>\n",
              "</html>"
            ]
          },
          "metadata": {
            "tags": []
          }
        }
      ]
    },
    {
      "cell_type": "code",
      "metadata": {
        "id": "K7JHCL2WidJM",
        "colab_type": "code",
        "colab": {
          "base_uri": "https://localhost:8080/",
          "height": 52
        },
        "outputId": "5a2a6d5e-50a9-4e5e-b9a1-95f2e5423274"
      },
      "source": [
        "model.evaluate(X_test, y_test) #M this gives you at once the accuracy which otherwhise I would, based on my online courses, get as follows:\n",
        "\n",
        "#from sklearn.metrics import classification_report, confusion_matrix\n",
        "#predictions = np.argmax(model.predict(X_test), axis=-1)\n",
        "#print(classification_report(y_test, predictions))"
      ],
      "execution_count": 81,
      "outputs": [
        {
          "output_type": "stream",
          "text": [
            "313/313 [==============================] - 1s 2ms/step - loss: 0.3382 - accuracy: 0.8822\n"
          ],
          "name": "stdout"
        },
        {
          "output_type": "execute_result",
          "data": {
            "text/plain": [
              "[0.3381877839565277, 0.8822000026702881]"
            ]
          },
          "metadata": {
            "tags": []
          },
          "execution_count": 81
        }
      ]
    },
    {
      "cell_type": "code",
      "metadata": {
        "id": "IzWG8iwmidJV",
        "colab_type": "code",
        "colab": {
          "base_uri": "https://localhost:8080/",
          "height": 87
        },
        "outputId": "2881b409-f515-42e0-bc4d-93d3905b59c6"
      },
      "source": [
        "X_new = X_test[:3]\n",
        "y_proba = model.predict(X_new)\n",
        "y_proba.round(2)"
      ],
      "execution_count": 86,
      "outputs": [
        {
          "output_type": "execute_result",
          "data": {
            "text/plain": [
              "array([[0.  , 0.  , 0.  , 0.  , 0.  , 0.01, 0.  , 0.03, 0.  , 0.96],\n",
              "       [0.  , 0.  , 0.99, 0.  , 0.01, 0.  , 0.  , 0.  , 0.  , 0.  ],\n",
              "       [0.  , 1.  , 0.  , 0.  , 0.  , 0.  , 0.  , 0.  , 0.  , 0.  ]],\n",
              "      dtype=float32)"
            ]
          },
          "metadata": {
            "tags": []
          },
          "execution_count": 86
        }
      ]
    },
    {
      "cell_type": "code",
      "metadata": {
        "id": "XzBkF77gidJY",
        "colab_type": "code",
        "colab": {
          "base_uri": "https://localhost:8080/",
          "height": 34
        },
        "outputId": "9d7bcb9f-9dfe-4ee4-dc61-f6719fef728d"
      },
      "source": [
        "y_pred = model.predict_classes(X_new)\n",
        "y_pred"
      ],
      "execution_count": 87,
      "outputs": [
        {
          "output_type": "execute_result",
          "data": {
            "text/plain": [
              "array([9, 2, 1])"
            ]
          },
          "metadata": {
            "tags": []
          },
          "execution_count": 87
        }
      ]
    },
    {
      "cell_type": "code",
      "metadata": {
        "id": "QlVIb5tTidJc",
        "colab_type": "code",
        "colab": {},
        "outputId": "0d8fd62b-8719-424f-b318-2e5c3d3a1808"
      },
      "source": [
        "np.array(class_names)[y_pred]"
      ],
      "execution_count": null,
      "outputs": [
        {
          "output_type": "execute_result",
          "data": {
            "text/plain": [
              "array(['Ankle boot', 'Pullover', 'Trouser'], dtype='<U11')"
            ]
          },
          "metadata": {
            "tags": []
          },
          "execution_count": 45
        }
      ]
    },
    {
      "cell_type": "code",
      "metadata": {
        "id": "bxTe79xwidJf",
        "colab_type": "code",
        "colab": {},
        "outputId": "b6831681-f37e-47cd-c790-3428ddc2a330"
      },
      "source": [
        "y_new = y_test[:3]\n",
        "y_new"
      ],
      "execution_count": null,
      "outputs": [
        {
          "output_type": "execute_result",
          "data": {
            "text/plain": [
              "array([9, 2, 1], dtype=uint8)"
            ]
          },
          "metadata": {
            "tags": []
          },
          "execution_count": 46
        }
      ]
    },
    {
      "cell_type": "code",
      "metadata": {
        "id": "7TlkdHaFidJh",
        "colab_type": "code",
        "colab": {},
        "outputId": "a2326b89-767e-46d0-9420-fca26fc4e075"
      },
      "source": [
        "plt.figure(figsize=(7.2, 2.4))\n",
        "for index, image in enumerate(X_new):\n",
        "    plt.subplot(1, 3, index + 1)\n",
        "    plt.imshow(image, cmap=\"binary\", interpolation=\"nearest\")\n",
        "    plt.axis('off')\n",
        "    plt.title(class_names[y_test[index]], fontsize=12)\n",
        "plt.subplots_adjust(wspace=0.2, hspace=0.5)\n",
        "save_fig('fashion_mnist_images_plot', tight_layout=False)\n",
        "plt.show()"
      ],
      "execution_count": null,
      "outputs": [
        {
          "output_type": "stream",
          "text": [
            "Saving figure fashion_mnist_images_plot\n"
          ],
          "name": "stdout"
        },
        {
          "output_type": "display_data",
          "data": {
            "image/png": "[encoded data removed]",
            "text/plain": [
              "<Figure size 518.4x172.8 with 3 Axes>"
            ]
          },
          "metadata": {
            "tags": [],
            "needs_background": "light"
          }
        }
      ]
    },
    {
      "cell_type": "markdown",
      "metadata": {
        "id": "0sMi70wWidJk",
        "colab_type": "text"
      },
      "source": [
        "# Regression MLP"
      ]
    },
    {
      "cell_type": "markdown",
      "metadata": {
        "id": "0iVW2ckCidJl",
        "colab_type": "text"
      },
      "source": [
        "Let's load, split and scale the California housing dataset (the original one, not the modified one as in chapter 2):"
      ]
    },
    {
      "cell_type": "code",
      "metadata": {
        "id": "fwys70lIidJl",
        "colab_type": "code",
        "colab": {}
      },
      "source": [
        "from sklearn.datasets import fetch_california_housing\n",
        "from sklearn.model_selection import train_test_split\n",
        "from sklearn.preprocessing import StandardScaler\n",
        "\n",
        "housing = fetch_california_housing()\n",
        "\n",
        "X_train_full, X_test, y_train_full, y_test = train_test_split(housing.data, housing.target, random_state=42)\n",
        "X_train, X_valid, y_train, y_valid = train_test_split(X_train_full, y_train_full, random_state=42)\n",
        "\n",
        "scaler = StandardScaler()\n",
        "X_train = scaler.fit_transform(X_train)\n",
        "X_valid = scaler.transform(X_valid)\n",
        "X_test = scaler.transform(X_test)"
      ],
      "execution_count": null,
      "outputs": []
    },
    {
      "cell_type": "code",
      "metadata": {
        "id": "9ncUO4R8idJp",
        "colab_type": "code",
        "colab": {}
      },
      "source": [
        "np.random.seed(42)\n",
        "tf.random.set_seed(42)"
      ],
      "execution_count": null,
      "outputs": []
    },
    {
      "cell_type": "code",
      "metadata": {
        "id": "TdqGbwzFidJs",
        "colab_type": "code",
        "colab": {},
        "outputId": "af330d4f-2bd8-4388-e44e-a9af5179c352"
      },
      "source": [
        "model = keras.models.Sequential([\n",
        "    keras.layers.Dense(30, activation=\"relu\", input_shape=X_train.shape[1:]),\n",
        "    keras.layers.Dense(1)\n",
        "])\n",
        "model.compile(loss=\"mean_squared_error\", optimizer=keras.optimizers.SGD(lr=1e-3))\n",
        "history = model.fit(X_train, y_train, epochs=20, validation_data=(X_valid, y_valid))\n",
        "mse_test = model.evaluate(X_test, y_test)\n",
        "X_new = X_test[:3]\n",
        "y_pred = model.predict(X_new)"
      ],
      "execution_count": null,
      "outputs": [
        {
          "output_type": "stream",
          "text": [
            "Train on 11610 samples, validate on 3870 samples\n",
            "Epoch 1/20\n",
            "11610/11610 [==============================] - 1s 44us/sample - loss: 1.6205 - val_loss: 2.0374\n",
            "Epoch 2/20\n",
            "11610/11610 [==============================] - 0s 29us/sample - loss: 0.7162 - val_loss: 0.6571\n",
            "Epoch 3/20\n",
            "11610/11610 [==============================] - 0s 31us/sample - loss: 0.6356 - val_loss: 0.5996\n",
            "Epoch 4/20\n",
            "11610/11610 [==============================] - 0s 30us/sample - loss: 0.5989 - val_loss: 0.5662\n",
            "Epoch 5/20\n",
            "11610/11610 [==============================] - 0s 28us/sample - loss: 0.5713 - val_loss: 0.5489\n",
            "Epoch 6/20\n",
            "11610/11610 [==============================] - 0s 28us/sample - loss: 0.5491 - val_loss: 0.5204\n",
            "Epoch 7/20\n",
            "11610/11610 [==============================] - 0s 30us/sample - loss: 0.5301 - val_loss: 0.5018\n",
            "Epoch 8/20\n",
            "11610/11610 [==============================] - 0s 29us/sample - loss: 0.5142 - val_loss: 0.4815\n",
            "Epoch 9/20\n",
            "11610/11610 [==============================] - 0s 27us/sample - loss: 0.5004 - val_loss: 0.4695\n",
            "Epoch 10/20\n",
            "11610/11610 [==============================] - 0s 30us/sample - loss: 0.4883 - val_loss: 0.4605\n",
            "Epoch 11/20\n",
            "11610/11610 [==============================] - 0s 29us/sample - loss: 0.4786 - val_loss: 0.4495\n",
            "Epoch 12/20\n",
            "11610/11610 [==============================] - 0s 29us/sample - loss: 0.4697 - val_loss: 0.4382\n",
            "Epoch 13/20\n",
            "11610/11610 [==============================] - 0s 29us/sample - loss: 0.4621 - val_loss: 0.4309\n",
            "Epoch 14/20\n",
            "11610/11610 [==============================] - 0s 27us/sample - loss: 0.4556 - val_loss: 0.4247\n",
            "Epoch 15/20\n",
            "11610/11610 [==============================] - 0s 29us/sample - loss: 0.4497 - val_loss: 0.4200\n",
            "Epoch 16/20\n",
            "11610/11610 [==============================] - 0s 29us/sample - loss: 0.4443 - val_loss: 0.4149\n",
            "Epoch 17/20\n",
            "11610/11610 [==============================] - 0s 29us/sample - loss: 0.4397 - val_loss: 0.4108\n",
            "Epoch 18/20\n",
            "11610/11610 [==============================] - 0s 29us/sample - loss: 0.4354 - val_loss: 0.4059\n",
            "Epoch 19/20\n",
            "11610/11610 [==============================] - 0s 29us/sample - loss: 0.4315 - val_loss: 0.4003\n",
            "Epoch 20/20\n",
            "11610/11610 [==============================] - 0s 29us/sample - loss: 0.4281 - val_loss: 0.3981\n",
            "5160/5160 [==============================] - 0s 15us/sample - loss: 0.4218\n"
          ],
          "name": "stdout"
        }
      ]
    },
    {
      "cell_type": "code",
      "metadata": {
        "id": "_OlL56n_idJw",
        "colab_type": "code",
        "colab": {},
        "outputId": "8ecaa9c0-41fe-407d-816b-12af3b71d9cc"
      },
      "source": [
        "plt.plot(pd.DataFrame(history.history))\n",
        "plt.grid(True)\n",
        "plt.gca().set_ylim(0, 1)\n",
        "plt.show()"
      ],
      "execution_count": null,
      "outputs": [
        {
          "output_type": "display_data",
          "data": {
            "image/png": "[encoded data removed]",
            "text/plain": [
              "<Figure size 432x288 with 1 Axes>"
            ]
          },
          "metadata": {
            "tags": [],
            "needs_background": "light"
          }
        }
      ]
    },
    {
      "cell_type": "code",
      "metadata": {
        "id": "CUvXvlVOidJy",
        "colab_type": "code",
        "colab": {},
        "outputId": "4e7d05d2-9269-4616-ddb4-4a48f0e24ce0"
      },
      "source": [
        "y_pred"
      ],
      "execution_count": null,
      "outputs": [
        {
          "output_type": "execute_result",
          "data": {
            "text/plain": [
              "array([[0.37310064],\n",
              "       [1.6790789 ],\n",
              "       [3.0817137 ]], dtype=float32)"
            ]
          },
          "metadata": {
            "tags": []
          },
          "execution_count": 52
        }
      ]
    },
    {
      "cell_type": "markdown",
      "metadata": {
        "id": "wT0ECqgYidJz",
        "colab_type": "text"
      },
      "source": [
        "# Functional API"
      ]
    },
    {
      "cell_type": "markdown",
      "metadata": {
        "id": "60IkV_jGidJz",
        "colab_type": "text"
      },
      "source": [
        "Not all neural network models are simply sequential. Some may have complex topologies. Some may have multiple inputs and/or multiple outputs. For example, a Wide & Deep neural network (see [paper](https://ai.google/research/pubs/pub45413)) connects all or part of the inputs directly to the output layer."
      ]
    },
    {
      "cell_type": "code",
      "metadata": {
        "id": "7Z9m2q8IidJ0",
        "colab_type": "code",
        "colab": {}
      },
      "source": [
        "np.random.seed(42)\n",
        "tf.random.set_seed(42)"
      ],
      "execution_count": null,
      "outputs": []
    },
    {
      "cell_type": "code",
      "metadata": {
        "id": "i6Cj9PnVidJ1",
        "colab_type": "code",
        "colab": {}
      },
      "source": [
        "input_ = keras.layers.Input(shape=X_train.shape[1:])\n",
        "hidden1 = keras.layers.Dense(30, activation=\"relu\")(input_)\n",
        "hidden2 = keras.layers.Dense(30, activation=\"relu\")(hidden1)\n",
        "concat = keras.layers.concatenate([input_, hidden2])\n",
        "output = keras.layers.Dense(1)(concat)\n",
        "model = keras.models.Model(inputs=[input_], outputs=[output])"
      ],
      "execution_count": null,
      "outputs": []
    },
    {
      "cell_type": "code",
      "metadata": {
        "id": "VY1wzsb0idJ3",
        "colab_type": "code",
        "colab": {},
        "outputId": "691bfe49-78d0-41a5-e48e-64f99735e286"
      },
      "source": [
        "model.summary()"
      ],
      "execution_count": null,
      "outputs": [
        {
          "output_type": "stream",
          "text": [
            "Model: \"model\"\n",
            "__________________________________________________________________________________________________\n",
            "Layer (type)                    Output Shape         Param #     Connected to                     \n",
            "==================================================================================================\n",
            "input_1 (InputLayer)            [(None, 8)]          0                                            \n",
            "__________________________________________________________________________________________________\n",
            "dense_5 (Dense)                 (None, 30)           270         input_1[0][0]                    \n",
            "__________________________________________________________________________________________________\n",
            "dense_6 (Dense)                 (None, 30)           930         dense_5[0][0]                    \n",
            "__________________________________________________________________________________________________\n",
            "concatenate (Concatenate)       (None, 38)           0           input_1[0][0]                    \n",
            "                                                                 dense_6[0][0]                    \n",
            "__________________________________________________________________________________________________\n",
            "dense_7 (Dense)                 (None, 1)            39          concatenate[0][0]                \n",
            "==================================================================================================\n",
            "Total params: 1,239\n",
            "Trainable params: 1,239\n",
            "Non-trainable params: 0\n",
            "__________________________________________________________________________________________________\n"
          ],
          "name": "stdout"
        }
      ]
    },
    {
      "cell_type": "code",
      "metadata": {
        "id": "8S_y6b89idJ5",
        "colab_type": "code",
        "colab": {},
        "outputId": "fe5ea029-9764-4559-c7a8-72e3d97f6b86"
      },
      "source": [
        "model.compile(loss=\"mean_squared_error\", optimizer=keras.optimizers.SGD(lr=1e-3))\n",
        "history = model.fit(X_train, y_train, epochs=20,\n",
        "                    validation_data=(X_valid, y_valid))\n",
        "mse_test = model.evaluate(X_test, y_test)\n",
        "y_pred = model.predict(X_new)"
      ],
      "execution_count": null,
      "outputs": [
        {
          "output_type": "stream",
          "text": [
            "Train on 11610 samples, validate on 3870 samples\n",
            "Epoch 1/20\n",
            "11610/11610 [==============================] - 1s 47us/sample - loss: 1.2390 - val_loss: 0.6566\n",
            "Epoch 2/20\n",
            "11610/11610 [==============================] - 0s 30us/sample - loss: 0.6312 - val_loss: 0.6734\n",
            "Epoch 3/20\n",
            "11610/11610 [==============================] - 0s 31us/sample - loss: 0.5886 - val_loss: 0.5574\n",
            "Epoch 4/20\n",
            "11610/11610 [==============================] - 0s 31us/sample - loss: 0.5595 - val_loss: 0.5235\n",
            "Epoch 5/20\n",
            "11610/11610 [==============================] - 0s 30us/sample - loss: 0.5361 - val_loss: 0.5011\n",
            "Epoch 6/20\n",
            "11610/11610 [==============================] - 0s 30us/sample - loss: 0.5178 - val_loss: 0.5065\n",
            "Epoch 7/20\n",
            "11610/11610 [==============================] - 0s 31us/sample - loss: 0.5016 - val_loss: 0.4699\n",
            "Epoch 8/20\n",
            "11610/11610 [==============================] - 0s 31us/sample - loss: 0.4888 - val_loss: 0.4745\n",
            "Epoch 9/20\n",
            "11610/11610 [==============================] - 0s 30us/sample - loss: 0.4772 - val_loss: 0.4425\n",
            "Epoch 10/20\n",
            "11610/11610 [==============================] - 0s 31us/sample - loss: 0.4673 - val_loss: 0.4384\n",
            "Epoch 11/20\n",
            "11610/11610 [==============================] - 0s 30us/sample - loss: 0.4586 - val_loss: 0.4533\n",
            "Epoch 12/20\n",
            "11610/11610 [==============================] - 0s 31us/sample - loss: 0.4504 - val_loss: 0.4179\n",
            "Epoch 13/20\n",
            "11610/11610 [==============================] - 0s 31us/sample - loss: 0.4435 - val_loss: 0.4137\n",
            "Epoch 14/20\n",
            "11610/11610 [==============================] - 0s 30us/sample - loss: 0.4376 - val_loss: 0.4062\n",
            "Epoch 15/20\n",
            "11610/11610 [==============================] - 0s 31us/sample - loss: 0.4318 - val_loss: 0.4541\n",
            "Epoch 16/20\n",
            "11610/11610 [==============================] - 0s 31us/sample - loss: 0.4266 - val_loss: 0.3952\n",
            "Epoch 17/20\n",
            "11610/11610 [==============================] - 0s 31us/sample - loss: 0.4221 - val_loss: 0.3910\n",
            "Epoch 18/20\n",
            "11610/11610 [==============================] - 0s 30us/sample - loss: 0.4173 - val_loss: 0.4205\n",
            "Epoch 19/20\n",
            "11610/11610 [==============================] - 0s 30us/sample - loss: 0.4132 - val_loss: 0.3830\n",
            "Epoch 20/20\n",
            "11610/11610 [==============================] - 0s 30us/sample - loss: 0.4096 - val_loss: 0.3923\n",
            "5160/5160 [==============================] - 0s 15us/sample - loss: 0.4042\n"
          ],
          "name": "stdout"
        }
      ]
    },
    {
      "cell_type": "markdown",
      "metadata": {
        "id": "XYey8F4lidJ7",
        "colab_type": "text"
      },
      "source": [
        "What if you want to send different subsets of input features through the wide or deep paths? We will send 5 features (features 0 to 4), and 6 through the deep path (features 2 to 7). Note that 3 features will go through both (features 2, 3 and 4)."
      ]
    },
    {
      "cell_type": "code",
      "metadata": {
        "id": "Ejqk5osYidJ7",
        "colab_type": "code",
        "colab": {}
      },
      "source": [
        "np.random.seed(42)\n",
        "tf.random.set_seed(42)"
      ],
      "execution_count": null,
      "outputs": []
    },
    {
      "cell_type": "code",
      "metadata": {
        "id": "PV7bWoTMidJ_",
        "colab_type": "code",
        "colab": {}
      },
      "source": [
        "input_A = keras.layers.Input(shape=[5], name=\"wide_input\")\n",
        "input_B = keras.layers.Input(shape=[6], name=\"deep_input\")\n",
        "hidden1 = keras.layers.Dense(30, activation=\"relu\")(input_B)\n",
        "hidden2 = keras.layers.Dense(30, activation=\"relu\")(hidden1)\n",
        "concat = keras.layers.concatenate([input_A, hidden2])\n",
        "output = keras.layers.Dense(1, name=\"output\")(concat)\n",
        "model = keras.models.Model(inputs=[input_A, input_B], outputs=[output])"
      ],
      "execution_count": null,
      "outputs": []
    },
    {
      "cell_type": "code",
      "metadata": {
        "id": "ft1nCSdLidKB",
        "colab_type": "code",
        "colab": {},
        "outputId": "a71aa988-c592-4a96-938c-40af4c24e1d3"
      },
      "source": [
        "model.compile(loss=\"mse\", optimizer=keras.optimizers.SGD(lr=1e-3))\n",
        "\n",
        "X_train_A, X_train_B = X_train[:, :5], X_train[:, 2:]\n",
        "X_valid_A, X_valid_B = X_valid[:, :5], X_valid[:, 2:]\n",
        "X_test_A, X_test_B = X_test[:, :5], X_test[:, 2:]\n",
        "X_new_A, X_new_B = X_test_A[:3], X_test_B[:3]\n",
        "\n",
        "history = model.fit((X_train_A, X_train_B), y_train, epochs=20,\n",
        "                    validation_data=((X_valid_A, X_valid_B), y_valid))\n",
        "mse_test = model.evaluate((X_test_A, X_test_B), y_test)\n",
        "y_pred = model.predict((X_new_A, X_new_B))"
      ],
      "execution_count": null,
      "outputs": [
        {
          "output_type": "stream",
          "text": [
            "Train on 11610 samples, validate on 3870 samples\n",
            "Epoch 1/20\n",
            "11610/11610 [==============================] - 1s 50us/sample - loss: 1.8127 - val_loss: 2.1165\n",
            "Epoch 2/20\n",
            "11610/11610 [==============================] - 0s 32us/sample - loss: 0.6852 - val_loss: 0.6178\n",
            "Epoch 3/20\n",
            "11610/11610 [==============================] - 0s 32us/sample - loss: 0.5965 - val_loss: 0.5600\n",
            "Epoch 4/20\n",
            "11610/11610 [==============================] - 0s 32us/sample - loss: 0.5587 - val_loss: 0.5269\n",
            "Epoch 5/20\n",
            "11610/11610 [==============================] - 0s 31us/sample - loss: 0.5321 - val_loss: 0.5185\n",
            "Epoch 6/20\n",
            "11610/11610 [==============================] - 0s 32us/sample - loss: 0.5129 - val_loss: 0.4803\n",
            "Epoch 7/20\n",
            "11610/11610 [==============================] - 0s 32us/sample - loss: 0.4959 - val_loss: 0.4689\n",
            "Epoch 8/20\n",
            "11610/11610 [==============================] - 0s 32us/sample - loss: 0.4837 - val_loss: 0.4498\n",
            "Epoch 9/20\n",
            "11610/11610 [==============================] - 0s 32us/sample - loss: 0.4734 - val_loss: 0.4387\n",
            "Epoch 10/20\n",
            "11610/11610 [==============================] - 0s 32us/sample - loss: 0.4646 - val_loss: 0.4306\n",
            "Epoch 11/20\n",
            "11610/11610 [==============================] - 0s 32us/sample - loss: 0.4571 - val_loss: 0.4262\n",
            "Epoch 12/20\n",
            "11610/11610 [==============================] - 0s 32us/sample - loss: 0.4507 - val_loss: 0.4173\n",
            "Epoch 13/20\n",
            "11610/11610 [==============================] - 0s 32us/sample - loss: 0.4456 - val_loss: 0.4124\n",
            "Epoch 14/20\n",
            "11610/11610 [==============================] - 0s 32us/sample - loss: 0.4422 - val_loss: 0.4084\n",
            "Epoch 15/20\n",
            "11610/11610 [==============================] - 0s 32us/sample - loss: 0.4386 - val_loss: 0.4351\n",
            "Epoch 16/20\n",
            "11610/11610 [==============================] - 0s 32us/sample - loss: 0.4361 - val_loss: 0.4017\n",
            "Epoch 17/20\n",
            "11610/11610 [==============================] - 0s 32us/sample - loss: 0.4326 - val_loss: 0.3990\n",
            "Epoch 18/20\n",
            "11610/11610 [==============================] - 0s 32us/sample - loss: 0.4296 - val_loss: 0.4148\n",
            "Epoch 19/20\n",
            "11610/11610 [==============================] - 0s 32us/sample - loss: 0.4278 - val_loss: 0.3957\n",
            "Epoch 20/20\n",
            "11610/11610 [==============================] - 0s 33us/sample - loss: 0.4259 - val_loss: 0.3976\n",
            "5160/5160 [==============================] - 0s 16us/sample - loss: 0.4202\n"
          ],
          "name": "stdout"
        }
      ]
    },
    {
      "cell_type": "markdown",
      "metadata": {
        "id": "4GhTM-UxidKC",
        "colab_type": "text"
      },
      "source": [
        "Adding an auxiliary output for regularization:"
      ]
    },
    {
      "cell_type": "code",
      "metadata": {
        "id": "zIhhWuZNidKD",
        "colab_type": "code",
        "colab": {}
      },
      "source": [
        "np.random.seed(42)\n",
        "tf.random.set_seed(42)"
      ],
      "execution_count": null,
      "outputs": []
    },
    {
      "cell_type": "code",
      "metadata": {
        "id": "ovBpsiPnidKE",
        "colab_type": "code",
        "colab": {}
      },
      "source": [
        "input_A = keras.layers.Input(shape=[5], name=\"wide_input\")\n",
        "input_B = keras.layers.Input(shape=[6], name=\"deep_input\")\n",
        "hidden1 = keras.layers.Dense(30, activation=\"relu\")(input_B)\n",
        "hidden2 = keras.layers.Dense(30, activation=\"relu\")(hidden1)\n",
        "concat = keras.layers.concatenate([input_A, hidden2])\n",
        "output = keras.layers.Dense(1, name=\"main_output\")(concat)\n",
        "aux_output = keras.layers.Dense(1, name=\"aux_output\")(hidden2)\n",
        "model = keras.models.Model(inputs=[input_A, input_B],\n",
        "                           outputs=[output, aux_output])"
      ],
      "execution_count": null,
      "outputs": []
    },
    {
      "cell_type": "code",
      "metadata": {
        "id": "bLSF5hE1idKF",
        "colab_type": "code",
        "colab": {}
      },
      "source": [
        "model.compile(loss=[\"mse\", \"mse\"], loss_weights=[0.9, 0.1], optimizer=keras.optimizers.SGD(lr=1e-3))"
      ],
      "execution_count": null,
      "outputs": []
    },
    {
      "cell_type": "code",
      "metadata": {
        "id": "SjgsY1HXidKH",
        "colab_type": "code",
        "colab": {},
        "outputId": "95fb87b1-c9b7-4de0-e8c1-9f712d91b191"
      },
      "source": [
        "history = model.fit([X_train_A, X_train_B], [y_train, y_train], epochs=20,\n",
        "                    validation_data=([X_valid_A, X_valid_B], [y_valid, y_valid]))"
      ],
      "execution_count": null,
      "outputs": [
        {
          "output_type": "stream",
          "text": [
            "Train on 11610 samples, validate on 3870 samples\n",
            "Epoch 1/20\n",
            "11610/11610 [==============================] - 1s 68us/sample - loss: 2.1346 - main_output_loss: 1.9194 - aux_output_loss: 4.0632 - val_loss: 2.9120 - val_main_output_loss: 2.2555 - val_aux_output_loss: 8.8088\n",
            "Epoch 2/20\n",
            "11610/11610 [==============================] - 0s 37us/sample - loss: 0.8954 - main_output_loss: 0.7048 - aux_output_loss: 2.6119 - val_loss: 1.4135 - val_main_output_loss: 0.6348 - val_aux_output_loss: 8.4172\n",
            "Epoch 3/20\n",
            "11610/11610 [==============================] - 0s 37us/sample - loss: 0.7400 - main_output_loss: 0.6077 - aux_output_loss: 1.9305 - val_loss: 1.3594 - val_main_output_loss: 0.5885 - val_aux_output_loss: 8.2925\n",
            "Epoch 4/20\n",
            "11610/11610 [==============================] - 0s 37us/sample - loss: 0.6749 - main_output_loss: 0.5690 - aux_output_loss: 1.6264 - val_loss: 1.2789 - val_main_output_loss: 0.5611 - val_aux_output_loss: 7.7340\n",
            "Epoch 5/20\n",
            "11610/11610 [==============================] - 0s 37us/sample - loss: 0.6351 - main_output_loss: 0.5420 - aux_output_loss: 1.4729 - val_loss: 1.1841 - val_main_output_loss: 0.5656 - val_aux_output_loss: 6.7464\n",
            "Epoch 6/20\n",
            "11610/11610 [==============================] - 0s 37us/sample - loss: 0.6068 - main_output_loss: 0.5213 - aux_output_loss: 1.3763 - val_loss: 1.0614 - val_main_output_loss: 0.5202 - val_aux_output_loss: 5.9282\n",
            "Epoch 7/20\n",
            "11610/11610 [==============================] - 0s 37us/sample - loss: 0.5832 - main_output_loss: 0.5028 - aux_output_loss: 1.3072 - val_loss: 0.9555 - val_main_output_loss: 0.5111 - val_aux_output_loss: 4.9515\n",
            "Epoch 8/20\n",
            "11610/11610 [==============================] - 0s 38us/sample - loss: 0.5651 - main_output_loss: 0.4892 - aux_output_loss: 1.2463 - val_loss: 0.8426 - val_main_output_loss: 0.4713 - val_aux_output_loss: 4.1805\n",
            "Epoch 9/20\n",
            "11610/11610 [==============================] - 0s 36us/sample - loss: 0.5497 - main_output_loss: 0.4772 - aux_output_loss: 1.2017 - val_loss: 0.7632 - val_main_output_loss: 0.4633 - val_aux_output_loss: 3.4589\n",
            "Epoch 10/20\n",
            "11610/11610 [==============================] - 0s 38us/sample - loss: 0.5368 - main_output_loss: 0.4671 - aux_output_loss: 1.1631 - val_loss: 0.6954 - val_main_output_loss: 0.4467 - val_aux_output_loss: 2.9307\n",
            "Epoch 11/20\n",
            "11610/11610 [==============================] - 0s 36us/sample - loss: 0.5257 - main_output_loss: 0.4586 - aux_output_loss: 1.1297 - val_loss: 0.6413 - val_main_output_loss: 0.4292 - val_aux_output_loss: 2.5478\n",
            "Epoch 12/20\n",
            "11610/11610 [==============================] - 0s 36us/sample - loss: 0.5162 - main_output_loss: 0.4516 - aux_output_loss: 1.0989 - val_loss: 0.5950 - val_main_output_loss: 0.4232 - val_aux_output_loss: 2.1396\n",
            "Epoch 13/20\n",
            "11610/11610 [==============================] - 0s 36us/sample - loss: 0.5082 - main_output_loss: 0.4454 - aux_output_loss: 1.0729 - val_loss: 0.5608 - val_main_output_loss: 0.4203 - val_aux_output_loss: 1.8236\n",
            "Epoch 14/20\n",
            "11610/11610 [==============================] - 0s 37us/sample - loss: 0.5022 - main_output_loss: 0.4416 - aux_output_loss: 1.0487 - val_loss: 0.5324 - val_main_output_loss: 0.4142 - val_aux_output_loss: 1.5944\n",
            "Epoch 15/20\n",
            "11610/11610 [==============================] - 0s 37us/sample - loss: 0.4964 - main_output_loss: 0.4376 - aux_output_loss: 1.0240 - val_loss: 0.5206 - val_main_output_loss: 0.4118 - val_aux_output_loss: 1.4985\n",
            "Epoch 16/20\n",
            "11610/11610 [==============================] - 0s 37us/sample - loss: 0.4914 - main_output_loss: 0.4344 - aux_output_loss: 1.0054 - val_loss: 0.4939 - val_main_output_loss: 0.4017 - val_aux_output_loss: 1.3221\n",
            "Epoch 17/20\n",
            "11610/11610 [==============================] - 0s 37us/sample - loss: 0.4865 - main_output_loss: 0.4312 - aux_output_loss: 0.9841 - val_loss: 0.4803 - val_main_output_loss: 0.3993 - val_aux_output_loss: 1.2082\n",
            "Epoch 18/20\n",
            "11610/11610 [==============================] - 0s 38us/sample - loss: 0.4820 - main_output_loss: 0.4281 - aux_output_loss: 0.9663 - val_loss: 0.4820 - val_main_output_loss: 0.4053 - val_aux_output_loss: 1.1710\n",
            "Epoch 19/20\n",
            "11610/11610 [==============================] - 0s 36us/sample - loss: 0.4786 - main_output_loss: 0.4264 - aux_output_loss: 0.9490 - val_loss: 0.4661 - val_main_output_loss: 0.3979 - val_aux_output_loss: 1.0790\n",
            "Epoch 20/20\n",
            "11610/11610 [==============================] - 0s 36us/sample - loss: 0.4753 - main_output_loss: 0.4245 - aux_output_loss: 0.9320 - val_loss: 0.4598 - val_main_output_loss: 0.3968 - val_aux_output_loss: 1.0257\n"
          ],
          "name": "stdout"
        }
      ]
    },
    {
      "cell_type": "code",
      "metadata": {
        "id": "KQTj5tbxidKI",
        "colab_type": "code",
        "colab": {},
        "outputId": "459b01f9-227a-435f-8c37-66563466ba00"
      },
      "source": [
        "total_loss, main_loss, aux_loss = model.evaluate(\n",
        "    [X_test_A, X_test_B], [y_test, y_test])\n",
        "y_pred_main, y_pred_aux = model.predict([X_new_A, X_new_B])"
      ],
      "execution_count": null,
      "outputs": [
        {
          "output_type": "stream",
          "text": [
            "5160/5160 [==============================] - 0s 19us/sample - loss: 0.4656 - main_output_loss: 0.4165 - aux_output_loss: 0.9111\n"
          ],
          "name": "stdout"
        }
      ]
    },
    {
      "cell_type": "markdown",
      "metadata": {
        "id": "f9kzA4UvidKN",
        "colab_type": "text"
      },
      "source": [
        "# The subclassing API"
      ]
    },
    {
      "cell_type": "code",
      "metadata": {
        "id": "wvvgLIGgidKN",
        "colab_type": "code",
        "colab": {}
      },
      "source": [
        "class WideAndDeepModel(keras.models.Model):\n",
        "    def __init__(self, units=30, activation=\"relu\", **kwargs):\n",
        "        super().__init__(**kwargs)\n",
        "        self.hidden1 = keras.layers.Dense(units, activation=activation)\n",
        "        self.hidden2 = keras.layers.Dense(units, activation=activation)\n",
        "        self.main_output = keras.layers.Dense(1)\n",
        "        self.aux_output = keras.layers.Dense(1)\n",
        "        \n",
        "    def call(self, inputs):\n",
        "        input_A, input_B = inputs\n",
        "        hidden1 = self.hidden1(input_B)\n",
        "        hidden2 = self.hidden2(hidden1)\n",
        "        concat = keras.layers.concatenate([input_A, hidden2])\n",
        "        main_output = self.main_output(concat)\n",
        "        aux_output = self.aux_output(hidden2)\n",
        "        return main_output, aux_output\n",
        "\n",
        "model = WideAndDeepModel(30, activation=\"relu\")"
      ],
      "execution_count": null,
      "outputs": []
    },
    {
      "cell_type": "code",
      "metadata": {
        "id": "zbDLfLShidKP",
        "colab_type": "code",
        "colab": {},
        "outputId": "8a494eea-d788-4b24-f037-9d27eb0e3359"
      },
      "source": [
        "model.compile(loss=\"mse\", loss_weights=[0.9, 0.1], optimizer=keras.optimizers.SGD(lr=1e-3))\n",
        "history = model.fit((X_train_A, X_train_B), (y_train, y_train), epochs=10,\n",
        "                    validation_data=((X_valid_A, X_valid_B), (y_valid, y_valid)))\n",
        "total_loss, main_loss, aux_loss = model.evaluate((X_test_A, X_test_B), (y_test, y_test))\n",
        "y_pred_main, y_pred_aux = model.predict((X_new_A, X_new_B))"
      ],
      "execution_count": null,
      "outputs": [
        {
          "output_type": "stream",
          "text": [
            "Train on 11610 samples, validate on 3870 samples\n",
            "Epoch 1/10\n",
            "11610/11610 [==============================] - 1s 78us/sample - loss: 2.2719 - output_1_loss: 2.1554 - output_2_loss: 3.3117 - val_loss: 4.3377 - val_output_1_loss: 2.7732 - val_output_2_loss: 18.3999\n",
            "Epoch 2/10\n",
            "11610/11610 [==============================] - 0s 36us/sample - loss: 0.9891 - output_1_loss: 0.8653 - output_2_loss: 2.1062 - val_loss: 2.0073 - val_output_1_loss: 0.7581 - val_output_2_loss: 13.2427\n",
            "Epoch 3/10\n",
            "11610/11610 [==============================] - 0s 36us/sample - loss: 0.8320 - output_1_loss: 0.7303 - output_2_loss: 1.7468 - val_loss: 1.7215 - val_output_1_loss: 0.7114 - val_output_2_loss: 10.8051\n",
            "Epoch 4/10\n",
            "11610/11610 [==============================] - 0s 36us/sample - loss: 0.7658 - output_1_loss: 0.6760 - output_2_loss: 1.5726 - val_loss: 1.4708 - val_output_1_loss: 0.6454 - val_output_2_loss: 8.8938\n",
            "Epoch 5/10\n",
            "11610/11610 [==============================] - 0s 36us/sample - loss: 0.7223 - output_1_loss: 0.6394 - output_2_loss: 1.4683 - val_loss: 1.3057 - val_output_1_loss: 0.6852 - val_output_2_loss: 6.8846\n",
            "Epoch 6/10\n",
            "11610/11610 [==============================] - 0s 36us/sample - loss: 0.6909 - output_1_loss: 0.6132 - output_2_loss: 1.3901 - val_loss: 1.1005 - val_output_1_loss: 0.5915 - val_output_2_loss: 5.6773\n",
            "Epoch 7/10\n",
            "11610/11610 [==============================] - 0s 37us/sample - loss: 0.6636 - output_1_loss: 0.5894 - output_2_loss: 1.3330 - val_loss: 0.9605 - val_output_1_loss: 0.5611 - val_output_2_loss: 4.5516\n",
            "Epoch 8/10\n",
            "11610/11610 [==============================] - 0s 37us/sample - loss: 0.6406 - output_1_loss: 0.5691 - output_2_loss: 1.2833 - val_loss: 0.8480 - val_output_1_loss: 0.5263 - val_output_2_loss: 3.7399\n",
            "Epoch 9/10\n",
            "11610/11610 [==============================] - 0s 36us/sample - loss: 0.6199 - output_1_loss: 0.5507 - output_2_loss: 1.2416 - val_loss: 0.7650 - val_output_1_loss: 0.5085 - val_output_2_loss: 3.0718\n",
            "Epoch 10/10\n",
            "11610/11610 [==============================] - 0s 37us/sample - loss: 0.6019 - output_1_loss: 0.5351 - output_2_loss: 1.2026 - val_loss: 0.7004 - val_output_1_loss: 0.4916 - val_output_2_loss: 2.5772\n",
            "5160/5160 [==============================] - 0s 18us/sample - loss: 0.5819 - output_1_loss: 0.5174 - output_2_loss: 1.1749\n"
          ],
          "name": "stdout"
        }
      ]
    },
    {
      "cell_type": "code",
      "metadata": {
        "id": "motnb-EZidKS",
        "colab_type": "code",
        "colab": {}
      },
      "source": [
        "model = WideAndDeepModel(30, activation=\"relu\")"
      ],
      "execution_count": null,
      "outputs": []
    },
    {
      "cell_type": "markdown",
      "metadata": {
        "id": "qTIIKK1QidKU",
        "colab_type": "text"
      },
      "source": [
        "# Saving and Restoring"
      ]
    },
    {
      "cell_type": "code",
      "metadata": {
        "id": "C-uMNiKFidKV",
        "colab_type": "code",
        "colab": {}
      },
      "source": [
        "np.random.seed(42)\n",
        "tf.random.set_seed(42)"
      ],
      "execution_count": null,
      "outputs": []
    },
    {
      "cell_type": "code",
      "metadata": {
        "id": "XOu08oL0idKX",
        "colab_type": "code",
        "colab": {}
      },
      "source": [
        "model = keras.models.Sequential([\n",
        "    keras.layers.Dense(30, activation=\"relu\", input_shape=[8]),\n",
        "    keras.layers.Dense(30, activation=\"relu\"),\n",
        "    keras.layers.Dense(1)\n",
        "])    "
      ],
      "execution_count": null,
      "outputs": []
    },
    {
      "cell_type": "code",
      "metadata": {
        "id": "RRDlIreOidKY",
        "colab_type": "code",
        "colab": {},
        "outputId": "0ffa41bd-7490-42d6-be06-aeb9e98ade97"
      },
      "source": [
        "model.compile(loss=\"mse\", optimizer=keras.optimizers.SGD(lr=1e-3))\n",
        "history = model.fit(X_train, y_train, epochs=10, validation_data=(X_valid, y_valid))\n",
        "mse_test = model.evaluate(X_test, y_test)"
      ],
      "execution_count": null,
      "outputs": [
        {
          "output_type": "stream",
          "text": [
            "Train on 11610 samples, validate on 3870 samples\n",
            "Epoch 1/10\n",
            "11610/11610 [==============================] - 1s 46us/sample - loss: 1.8423 - val_loss: 5.2165\n",
            "Epoch 2/10\n",
            "11610/11610 [==============================] - 0s 30us/sample - loss: 0.6876 - val_loss: 0.7732\n",
            "Epoch 3/10\n",
            "11610/11610 [==============================] - 0s 30us/sample - loss: 0.5954 - val_loss: 0.5446\n",
            "Epoch 4/10\n",
            "11610/11610 [==============================] - 0s 31us/sample - loss: 0.5553 - val_loss: 0.5425\n",
            "Epoch 5/10\n",
            "11610/11610 [==============================] - 0s 30us/sample - loss: 0.5268 - val_loss: 0.5539\n",
            "Epoch 6/10\n",
            "11610/11610 [==============================] - 0s 30us/sample - loss: 0.5049 - val_loss: 0.4701\n",
            "Epoch 7/10\n",
            "11610/11610 [==============================] - 0s 30us/sample - loss: 0.4852 - val_loss: 0.4562\n",
            "Epoch 8/10\n",
            "11610/11610 [==============================] - 0s 31us/sample - loss: 0.4706 - val_loss: 0.4452\n",
            "Epoch 9/10\n",
            "11610/11610 [==============================] - 0s 30us/sample - loss: 0.4576 - val_loss: 0.4406\n",
            "Epoch 10/10\n",
            "11610/11610 [==============================] - 0s 30us/sample - loss: 0.4476 - val_loss: 0.4185\n",
            "5160/5160 [==============================] - 0s 15us/sample - loss: 0.4376\n"
          ],
          "name": "stdout"
        }
      ]
    },
    {
      "cell_type": "code",
      "metadata": {
        "id": "CVPFYDOUidKc",
        "colab_type": "code",
        "colab": {}
      },
      "source": [
        "model.save(\"my_keras_model.h5\")"
      ],
      "execution_count": null,
      "outputs": []
    },
    {
      "cell_type": "code",
      "metadata": {
        "id": "OMy6SRwsidKh",
        "colab_type": "code",
        "colab": {}
      },
      "source": [
        "model = keras.models.load_model(\"my_keras_model.h5\")"
      ],
      "execution_count": null,
      "outputs": []
    },
    {
      "cell_type": "code",
      "metadata": {
        "id": "MlSeVv9gidKl",
        "colab_type": "code",
        "colab": {},
        "outputId": "d4bc31f2-c51c-4230-9d29-22ec0c4399b8"
      },
      "source": [
        "model.predict(X_new)"
      ],
      "execution_count": null,
      "outputs": [
        {
          "output_type": "execute_result",
          "data": {
            "text/plain": [
              "array([[0.551559 ],\n",
              "       [1.6555369],\n",
              "       [3.0014234]], dtype=float32)"
            ]
          },
          "metadata": {
            "tags": []
          },
          "execution_count": 73
        }
      ]
    },
    {
      "cell_type": "code",
      "metadata": {
        "id": "SbWPGorCidKp",
        "colab_type": "code",
        "colab": {}
      },
      "source": [
        "model.save_weights(\"my_keras_weights.ckpt\")"
      ],
      "execution_count": null,
      "outputs": []
    },
    {
      "cell_type": "code",
      "metadata": {
        "id": "mWI0lCGEidKq",
        "colab_type": "code",
        "colab": {},
        "outputId": "a8582470-e2dc-47da-877a-e0cf880c832e"
      },
      "source": [
        "model.load_weights(\"my_keras_weights.ckpt\")"
      ],
      "execution_count": null,
      "outputs": [
        {
          "output_type": "execute_result",
          "data": {
            "text/plain": [
              "<tensorflow.python.training.tracking.util.CheckpointLoadStatus at 0x7ff383d586d8>"
            ]
          },
          "metadata": {
            "tags": []
          },
          "execution_count": 75
        }
      ]
    },
    {
      "cell_type": "markdown",
      "metadata": {
        "id": "xk_NJPJSidKs",
        "colab_type": "text"
      },
      "source": [
        "# Using Callbacks during Training"
      ]
    },
    {
      "cell_type": "code",
      "metadata": {
        "id": "Ubv34L95idKs",
        "colab_type": "code",
        "colab": {}
      },
      "source": [
        "keras.backend.clear_session()\n",
        "np.random.seed(42)\n",
        "tf.random.set_seed(42)"
      ],
      "execution_count": null,
      "outputs": []
    },
    {
      "cell_type": "code",
      "metadata": {
        "id": "WitFbesYidKv",
        "colab_type": "code",
        "colab": {}
      },
      "source": [
        "model = keras.models.Sequential([\n",
        "    keras.layers.Dense(30, activation=\"relu\", input_shape=[8]),\n",
        "    keras.layers.Dense(30, activation=\"relu\"),\n",
        "    keras.layers.Dense(1)\n",
        "])    "
      ],
      "execution_count": null,
      "outputs": []
    },
    {
      "cell_type": "code",
      "metadata": {
        "id": "tCK1huglidKz",
        "colab_type": "code",
        "colab": {},
        "outputId": "2f00aeb9-92df-42d6-c2f1-150503f4ab2c"
      },
      "source": [
        "model.compile(loss=\"mse\", optimizer=keras.optimizers.SGD(lr=1e-3))\n",
        "checkpoint_cb = keras.callbacks.ModelCheckpoint(\"my_keras_model.h5\", save_best_only=True)\n",
        "history = model.fit(X_train, y_train, epochs=10,\n",
        "                    validation_data=(X_valid, y_valid),\n",
        "                    callbacks=[checkpoint_cb])\n",
        "model = keras.models.load_model(\"my_keras_model.h5\") # rollback to best model\n",
        "mse_test = model.evaluate(X_test, y_test)"
      ],
      "execution_count": null,
      "outputs": [
        {
          "output_type": "stream",
          "text": [
            "Train on 11610 samples, validate on 3870 samples\n",
            "Epoch 1/10\n",
            "11610/11610 [==============================] - 1s 47us/sample - loss: 1.8423 - val_loss: 5.2165\n",
            "Epoch 2/10\n",
            "11610/11610 [==============================] - 0s 30us/sample - loss: 0.6876 - val_loss: 0.7732\n",
            "Epoch 3/10\n",
            "11610/11610 [==============================] - 0s 31us/sample - loss: 0.5954 - val_loss: 0.5446\n",
            "Epoch 4/10\n",
            "11610/11610 [==============================] - 0s 31us/sample - loss: 0.5553 - val_loss: 0.5425\n",
            "Epoch 5/10\n",
            "11610/11610 [==============================] - 0s 31us/sample - loss: 0.5268 - val_loss: 0.5539\n",
            "Epoch 6/10\n",
            "11610/11610 [==============================] - 0s 31us/sample - loss: 0.5049 - val_loss: 0.4701\n",
            "Epoch 7/10\n",
            "11610/11610 [==============================] - 0s 31us/sample - loss: 0.4852 - val_loss: 0.4562\n",
            "Epoch 8/10\n",
            "11610/11610 [==============================] - 0s 31us/sample - loss: 0.4706 - val_loss: 0.4452\n",
            "Epoch 9/10\n",
            "11610/11610 [==============================] - 0s 31us/sample - loss: 0.4576 - val_loss: 0.4406\n",
            "Epoch 10/10\n",
            "11610/11610 [==============================] - 0s 31us/sample - loss: 0.4476 - val_loss: 0.4185\n",
            "5160/5160 [==============================] - 0s 22us/sample - loss: 0.4376\n"
          ],
          "name": "stdout"
        }
      ]
    },
    {
      "cell_type": "code",
      "metadata": {
        "id": "oTD-D2XlidK1",
        "colab_type": "code",
        "colab": {},
        "outputId": "c6150fc3-c207-43d6-be7a-c9716792faa8"
      },
      "source": [
        "model.compile(loss=\"mse\", optimizer=keras.optimizers.SGD(lr=1e-3))\n",
        "early_stopping_cb = keras.callbacks.EarlyStopping(patience=10,\n",
        "                                                  restore_best_weights=True)\n",
        "history = model.fit(X_train, y_train, epochs=100,\n",
        "                    validation_data=(X_valid, y_valid),\n",
        "                    callbacks=[checkpoint_cb, early_stopping_cb])\n",
        "mse_test = model.evaluate(X_test, y_test)"
      ],
      "execution_count": null,
      "outputs": [
        {
          "output_type": "stream",
          "text": [
            "Train on 11610 samples, validate on 3870 samples\n",
            "Epoch 1/100\n",
            "11610/11610 [==============================] - 1s 47us/sample - loss: 0.4385 - val_loss: 0.4287\n",
            "Epoch 2/100\n",
            "11610/11610 [==============================] - 0s 31us/sample - loss: 0.4319 - val_loss: 0.4117\n",
            "Epoch 3/100\n",
            "11610/11610 [==============================] - 0s 32us/sample - loss: 0.4252 - val_loss: 0.3975\n",
            "Epoch 4/100\n",
            "11610/11610 [==============================] - 0s 31us/sample - loss: 0.4199 - val_loss: 0.3943\n",
            "Epoch 5/100\n",
            "11610/11610 [==============================] - 0s 31us/sample - loss: 0.4150 - val_loss: 0.3964\n",
            "Epoch 6/100\n",
            "11610/11610 [==============================] - 0s 31us/sample - loss: 0.4110 - val_loss: 0.3907\n",
            "Epoch 7/100\n",
            "11610/11610 [==============================] - 0s 31us/sample - loss: 0.4070 - val_loss: 0.3823\n",
            "Epoch 8/100\n",
            "11610/11610 [==============================] - 0s 31us/sample - loss: 0.4036 - val_loss: 0.3786\n",
            "Epoch 9/100\n",
            "11610/11610 [==============================] - 0s 31us/sample - loss: 0.4003 - val_loss: 0.3739\n",
            "Epoch 10/100\n",
            "11610/11610 [==============================] - 0s 31us/sample - loss: 0.3973 - val_loss: 0.3724\n",
            "Epoch 11/100\n",
            "11610/11610 [==============================] - 0s 31us/sample - loss: 0.3944 - val_loss: 0.3697\n",
            "Epoch 12/100\n",
            "11610/11610 [==============================] - 0s 31us/sample - loss: 0.3916 - val_loss: 0.3670\n",
            "Epoch 13/100\n",
            "11610/11610 [==============================] - 0s 31us/sample - loss: 0.3892 - val_loss: 0.3638\n",
            "Epoch 14/100\n",
            "11610/11610 [==============================] - 0s 32us/sample - loss: 0.3869 - val_loss: 0.3633\n",
            "Epoch 15/100\n",
            "11610/11610 [==============================] - 0s 31us/sample - loss: 0.3845 - val_loss: 0.4051\n",
            "Epoch 16/100\n",
            "11610/11610 [==============================] - 0s 31us/sample - loss: 0.3826 - val_loss: 0.3662\n",
            "Epoch 17/100\n",
            "11610/11610 [==============================] - 0s 31us/sample - loss: 0.3805 - val_loss: 0.3554\n",
            "<<132 more lines>>\n",
            "Epoch 84/100\n",
            "11610/11610 [==============================] - 0s 31us/sample - loss: 0.3312 - val_loss: 0.3282\n",
            "Epoch 85/100\n",
            "11610/11610 [==============================] - 0s 30us/sample - loss: 0.3307 - val_loss: 0.3379\n",
            "Epoch 86/100\n",
            "11610/11610 [==============================] - 0s 30us/sample - loss: 0.3306 - val_loss: 0.3163\n",
            "Epoch 87/100\n",
            "11610/11610 [==============================] - 0s 30us/sample - loss: 0.3302 - val_loss: 0.3377\n",
            "Epoch 88/100\n",
            "11610/11610 [==============================] - 0s 31us/sample - loss: 0.3300 - val_loss: 0.3340\n",
            "Epoch 89/100\n",
            "11610/11610 [==============================] - 0s 30us/sample - loss: 0.3295 - val_loss: 0.3158\n",
            "Epoch 90/100\n",
            "11610/11610 [==============================] - 0s 30us/sample - loss: 0.3294 - val_loss: 0.3519\n",
            "Epoch 91/100\n",
            "11610/11610 [==============================] - 0s 30us/sample - loss: 0.3289 - val_loss: 0.3142\n",
            "Epoch 92/100\n",
            "11610/11610 [==============================] - 0s 30us/sample - loss: 0.3286 - val_loss: 0.3619\n",
            "Epoch 93/100\n",
            "11610/11610 [==============================] - 0s 29us/sample - loss: 0.3282 - val_loss: 0.3270\n",
            "Epoch 94/100\n",
            "11610/11610 [==============================] - 0s 31us/sample - loss: 0.3282 - val_loss: 0.4632\n",
            "Epoch 95/100\n",
            "11610/11610 [==============================] - 0s 31us/sample - loss: 0.3284 - val_loss: 0.3371\n",
            "Epoch 96/100\n",
            "11610/11610 [==============================] - 0s 30us/sample - loss: 0.3275 - val_loss: 0.4659\n",
            "Epoch 97/100\n",
            "11610/11610 [==============================] - 0s 31us/sample - loss: 0.3278 - val_loss: 0.3156\n",
            "Epoch 98/100\n",
            "11610/11610 [==============================] - 0s 31us/sample - loss: 0.3265 - val_loss: 0.3259\n",
            "Epoch 99/100\n",
            "11610/11610 [==============================] - 0s 31us/sample - loss: 0.3262 - val_loss: 0.3407\n",
            "Epoch 100/100\n",
            "11610/11610 [==============================] - 0s 30us/sample - loss: 0.3264 - val_loss: 0.3176\n",
            "5160/5160 [==============================] - 0s 15us/sample - loss: 0.3271\n"
          ],
          "name": "stdout"
        }
      ]
    },
    {
      "cell_type": "code",
      "metadata": {
        "id": "x34J64zOidK3",
        "colab_type": "code",
        "colab": {}
      },
      "source": [
        "class PrintValTrainRatioCallback(keras.callbacks.Callback):\n",
        "    def on_epoch_end(self, epoch, logs):\n",
        "        print(\"\\nval/train: {:.2f}\".format(logs[\"val_loss\"] / logs[\"loss\"]))"
      ],
      "execution_count": null,
      "outputs": []
    },
    {
      "cell_type": "code",
      "metadata": {
        "id": "2meK0ecoidK4",
        "colab_type": "code",
        "colab": {},
        "outputId": "94e0be0f-fbf4-455d-9be4-656c81e2921e"
      },
      "source": [
        "val_train_ratio_cb = PrintValTrainRatioCallback()\n",
        "history = model.fit(X_train, y_train, epochs=1,\n",
        "                    validation_data=(X_valid, y_valid),\n",
        "                    callbacks=[val_train_ratio_cb])"
      ],
      "execution_count": null,
      "outputs": [
        {
          "output_type": "stream",
          "text": [
            "Train on 11610 samples, validate on 3870 samples\n",
            "10912/11610 [===========================>..] - ETA: 0s - loss: 0.3231\n",
            "val/train: 1.16\n",
            "11610/11610 [==============================] - 0s 30us/sample - loss: 0.3256 - val_loss: 0.3785\n"
          ],
          "name": "stdout"
        }
      ]
    },
    {
      "cell_type": "markdown",
      "metadata": {
        "id": "pDrsSdBOidK6",
        "colab_type": "text"
      },
      "source": [
        "# TensorBoard"
      ]
    },
    {
      "cell_type": "code",
      "metadata": {
        "id": "85imjRxPidK6",
        "colab_type": "code",
        "colab": {}
      },
      "source": [
        "root_logdir = os.path.join(os.curdir, \"my_logs\")"
      ],
      "execution_count": null,
      "outputs": []
    },
    {
      "cell_type": "code",
      "metadata": {
        "id": "mgooA9L5idK8",
        "colab_type": "code",
        "colab": {},
        "outputId": "52cf56c7-fd69-4709-8977-d37b029863db"
      },
      "source": [
        "def get_run_logdir():\n",
        "    import time\n",
        "    run_id = time.strftime(\"run_%Y_%m_%d-%H_%M_%S\")\n",
        "    return os.path.join(root_logdir, run_id)\n",
        "\n",
        "run_logdir = get_run_logdir()\n",
        "run_logdir"
      ],
      "execution_count": null,
      "outputs": [
        {
          "output_type": "execute_result",
          "data": {
            "text/plain": [
              "'./my_logs/run_2020_01_27-10_15_44'"
            ]
          },
          "metadata": {
            "tags": []
          },
          "execution_count": 83
        }
      ]
    },
    {
      "cell_type": "code",
      "metadata": {
        "id": "jtrJ4cjFidK-",
        "colab_type": "code",
        "colab": {}
      },
      "source": [
        "keras.backend.clear_session()\n",
        "np.random.seed(42)\n",
        "tf.random.set_seed(42)"
      ],
      "execution_count": null,
      "outputs": []
    },
    {
      "cell_type": "code",
      "metadata": {
        "id": "3vC-n3jYidK_",
        "colab_type": "code",
        "colab": {}
      },
      "source": [
        "model = keras.models.Sequential([\n",
        "    keras.layers.Dense(30, activation=\"relu\", input_shape=[8]),\n",
        "    keras.layers.Dense(30, activation=\"relu\"),\n",
        "    keras.layers.Dense(1)\n",
        "])    \n",
        "model.compile(loss=\"mse\", optimizer=keras.optimizers.SGD(lr=1e-3))"
      ],
      "execution_count": null,
      "outputs": []
    },
    {
      "cell_type": "code",
      "metadata": {
        "id": "OnhC842uidLA",
        "colab_type": "code",
        "colab": {},
        "outputId": "06c2f213-897f-4bb5-cf92-559fd1720d75"
      },
      "source": [
        "tensorboard_cb = keras.callbacks.TensorBoard(run_logdir)\n",
        "history = model.fit(X_train, y_train, epochs=30,\n",
        "                    validation_data=(X_valid, y_valid),\n",
        "                    callbacks=[checkpoint_cb, tensorboard_cb])"
      ],
      "execution_count": null,
      "outputs": [
        {
          "output_type": "stream",
          "text": [
            "Train on 11610 samples, validate on 3870 samples\n",
            "Epoch 1/30\n",
            "11610/11610 [==============================] - 1s 52us/sample - loss: 1.8423 - val_loss: 5.2165\n",
            "Epoch 2/30\n",
            "11610/11610 [==============================] - 0s 36us/sample - loss: 0.6876 - val_loss: 0.7732\n",
            "Epoch 3/30\n",
            "11610/11610 [==============================] - 0s 36us/sample - loss: 0.5954 - val_loss: 0.5446\n",
            "Epoch 4/30\n",
            "11610/11610 [==============================] - 0s 36us/sample - loss: 0.5553 - val_loss: 0.5425\n",
            "Epoch 5/30\n",
            "11610/11610 [==============================] - 0s 35us/sample - loss: 0.5268 - val_loss: 0.5539\n",
            "Epoch 6/30\n",
            "11610/11610 [==============================] - 0s 36us/sample - loss: 0.5049 - val_loss: 0.4701\n",
            "Epoch 7/30\n",
            "11610/11610 [==============================] - 0s 37us/sample - loss: 0.4852 - val_loss: 0.4562\n",
            "Epoch 8/30\n",
            "11610/11610 [==============================] - 0s 35us/sample - loss: 0.4706 - val_loss: 0.4452\n",
            "Epoch 9/30\n",
            "11610/11610 [==============================] - 0s 36us/sample - loss: 0.4576 - val_loss: 0.4406\n",
            "Epoch 10/30\n",
            "11610/11610 [==============================] - 0s 36us/sample - loss: 0.4476 - val_loss: 0.4185\n",
            "Epoch 11/30\n",
            "11610/11610 [==============================] - 0s 36us/sample - loss: 0.4388 - val_loss: 0.4285\n",
            "Epoch 12/30\n",
            "11610/11610 [==============================] - 0s 36us/sample - loss: 0.4313 - val_loss: 0.4071\n",
            "Epoch 13/30\n",
            "11610/11610 [==============================] - 0s 36us/sample - loss: 0.4252 - val_loss: 0.3998\n",
            "Epoch 14/30\n",
            "11610/11610 [==============================] - 0s 36us/sample - loss: 0.4198 - val_loss: 0.3970\n",
            "Epoch 15/30\n",
            "11610/11610 [==============================] - 0s 36us/sample - loss: 0.4152 - val_loss: 0.4115\n",
            "Epoch 16/30\n",
            "11610/11610 [==============================] - 0s 36us/sample - loss: 0.4109 - val_loss: 0.3849\n",
            "Epoch 17/30\n",
            "11610/11610 [==============================] - 0s 39us/sample - loss: 0.4073 - val_loss: 0.3862\n",
            "Epoch 18/30\n",
            "11610/11610 [==============================] - 0s 37us/sample - loss: 0.4037 - val_loss: 0.3907\n",
            "Epoch 19/30\n",
            "11610/11610 [==============================] - 0s 36us/sample - loss: 0.4003 - val_loss: 0.3751\n",
            "Epoch 20/30\n",
            "11610/11610 [==============================] - 0s 36us/sample - loss: 0.3974 - val_loss: 0.3711\n",
            "Epoch 21/30\n",
            "11610/11610 [==============================] - 0s 37us/sample - loss: 0.3945 - val_loss: 0.3733\n",
            "Epoch 22/30\n",
            "11610/11610 [==============================] - 0s 36us/sample - loss: 0.3919 - val_loss: 0.3676\n",
            "Epoch 23/30\n",
            "11610/11610 [==============================] - 0s 36us/sample - loss: 0.3893 - val_loss: 0.3669\n",
            "Epoch 24/30\n",
            "11610/11610 [==============================] - 0s 36us/sample - loss: 0.3869 - val_loss: 0.3614\n",
            "Epoch 25/30\n",
            "11610/11610 [==============================] - 0s 35us/sample - loss: 0.3846 - val_loss: 0.3600\n",
            "Epoch 26/30\n",
            "11610/11610 [==============================] - 0s 36us/sample - loss: 0.3825 - val_loss: 0.3578\n",
            "Epoch 27/30\n",
            "11610/11610 [==============================] - 0s 36us/sample - loss: 0.3802 - val_loss: 0.3676\n",
            "Epoch 28/30\n",
            "11610/11610 [==============================] - 0s 36us/sample - loss: 0.3781 - val_loss: 0.3545\n",
            "Epoch 29/30\n",
            "11610/11610 [==============================] - 0s 35us/sample - loss: 0.3761 - val_loss: 0.3612\n",
            "Epoch 30/30\n",
            "11610/11610 [==============================] - 0s 35us/sample - loss: 0.3742 - val_loss: 0.3555\n"
          ],
          "name": "stdout"
        }
      ]
    },
    {
      "cell_type": "markdown",
      "metadata": {
        "id": "VgKG_z8AidLB",
        "colab_type": "text"
      },
      "source": [
        "To start the TensorBoard server, one option is to open a terminal, if needed activate the virtualenv where you installed TensorBoard, go to this notebook's directory, then type:\n",
        "\n",
        "```bash\n",
        "$ tensorboard --logdir=./my_logs --port=6006\n",
        "```\n",
        "\n",
        "You can then open your web browser to [localhost:6006](http://localhost:6006) and use TensorBoard. Once you are done, press Ctrl-C in the terminal window, this will shutdown the TensorBoard server.\n",
        "\n",
        "Alternatively, you can load TensorBoard's Jupyter extension and run it like this:"
      ]
    },
    {
      "cell_type": "code",
      "metadata": {
        "id": "AI02bEkkidLC",
        "colab_type": "code",
        "colab": {},
        "outputId": "df8cfdd9-3c7a-4240-d287-e20e7fa267b5"
      },
      "source": [
        "%load_ext tensorboard\n",
        "%tensorboard --logdir=./my_logs --port=6006"
      ],
      "execution_count": null,
      "outputs": [
        {
          "output_type": "display_data",
          "data": {
            "text/html": [
              "\n",
              "      <iframe id=\"tensorboard-frame-52a06f24fbc7eece\" width=\"100%\" height=\"800\" frameborder=\"0\">\n",
              "      </iframe>\n",
              "      <script>\n",
              "        (function() {\n",
              "          const frame = document.getElementById(\"tensorboard-frame-52a06f24fbc7eece\");\n",
              "          const url = new URL(\"/\", window.location);\n",
              "          url.port = 6006;\n",
              "          frame.src = url;\n",
              "        })();\n",
              "      </script>\n",
              "  "
            ],
            "text/plain": [
              "<IPython.core.display.HTML object>"
            ]
          },
          "metadata": {
            "tags": []
          }
        }
      ]
    },
    {
      "cell_type": "code",
      "metadata": {
        "id": "5dYVOxAgidLD",
        "colab_type": "code",
        "colab": {},
        "outputId": "8a8ab97b-c990-4198-894e-a28beb624567"
      },
      "source": [
        "run_logdir2 = get_run_logdir()\n",
        "run_logdir2"
      ],
      "execution_count": null,
      "outputs": [
        {
          "output_type": "execute_result",
          "data": {
            "text/plain": [
              "'./my_logs/run_2020_01_27-10_18_25'"
            ]
          },
          "metadata": {
            "tags": []
          },
          "execution_count": 88
        }
      ]
    },
    {
      "cell_type": "code",
      "metadata": {
        "id": "ucurIG5-idLF",
        "colab_type": "code",
        "colab": {}
      },
      "source": [
        "keras.backend.clear_session()\n",
        "np.random.seed(42)\n",
        "tf.random.set_seed(42)"
      ],
      "execution_count": null,
      "outputs": []
    },
    {
      "cell_type": "code",
      "metadata": {
        "id": "ndxb26NZidLG",
        "colab_type": "code",
        "colab": {}
      },
      "source": [
        "model = keras.models.Sequential([\n",
        "    keras.layers.Dense(30, activation=\"relu\", input_shape=[8]),\n",
        "    keras.layers.Dense(30, activation=\"relu\"),\n",
        "    keras.layers.Dense(1)\n",
        "])    \n",
        "model.compile(loss=\"mse\", optimizer=keras.optimizers.SGD(lr=0.05))"
      ],
      "execution_count": null,
      "outputs": []
    },
    {
      "cell_type": "code",
      "metadata": {
        "id": "p1_lfKN4idLH",
        "colab_type": "code",
        "colab": {},
        "outputId": "cd325578-2b9c-4f6c-f032-56eadc6bb424"
      },
      "source": [
        "tensorboard_cb = keras.callbacks.TensorBoard(run_logdir2)\n",
        "history = model.fit(X_train, y_train, epochs=30,\n",
        "                    validation_data=(X_valid, y_valid),\n",
        "                    callbacks=[checkpoint_cb, tensorboard_cb])"
      ],
      "execution_count": null,
      "outputs": [
        {
          "output_type": "stream",
          "text": [
            "Train on 11610 samples, validate on 3870 samples\n",
            "Epoch 1/30\n",
            "11610/11610 [==============================] - 1s 52us/sample - loss: 5.6341 - val_loss: 1.3205\n",
            "Epoch 2/30\n",
            "11610/11610 [==============================] - 0s 35us/sample - loss: 1.2704 - val_loss: 1.0757\n",
            "Epoch 3/30\n",
            "11610/11610 [==============================] - 0s 36us/sample - loss: 0.9370 - val_loss: 0.7769\n",
            "Epoch 4/30\n",
            "11610/11610 [==============================] - 0s 36us/sample - loss: 0.8854 - val_loss: 0.8254\n",
            "Epoch 5/30\n",
            "11610/11610 [==============================] - 0s 35us/sample - loss: 0.9501 - val_loss: 0.9415\n",
            "Epoch 6/30\n",
            "11610/11610 [==============================] - 0s 35us/sample - loss: 0.8283 - val_loss: 0.6111\n",
            "Epoch 7/30\n",
            "11610/11610 [==============================] - 0s 35us/sample - loss: 0.8095 - val_loss: 0.7394\n",
            "Epoch 8/30\n",
            "11610/11610 [==============================] - 0s 35us/sample - loss: 1.1857 - val_loss: 1.0356\n",
            "Epoch 9/30\n",
            "11610/11610 [==============================] - 0s 35us/sample - loss: 0.8920 - val_loss: 0.6564\n",
            "Epoch 10/30\n",
            "11610/11610 [==============================] - 0s 35us/sample - loss: 1.2295 - val_loss: 1.1277\n",
            "Epoch 11/30\n",
            "11610/11610 [==============================] - 0s 35us/sample - loss: 0.8992 - val_loss: 0.6219\n",
            "Epoch 12/30\n",
            "11610/11610 [==============================] - 0s 35us/sample - loss: 0.7697 - val_loss: 0.6959\n",
            "Epoch 13/30\n",
            "11610/11610 [==============================] - 0s 35us/sample - loss: 0.7375 - val_loss: 0.6471\n",
            "Epoch 14/30\n",
            "11610/11610 [==============================] - 0s 35us/sample - loss: 0.9825 - val_loss: 1.0278\n",
            "Epoch 15/30\n",
            "11610/11610 [==============================] - 0s 35us/sample - loss: 0.9653 - val_loss: 0.9092\n",
            "Epoch 16/30\n",
            "11610/11610 [==============================] - 0s 36us/sample - loss: 0.9008 - val_loss: 0.8451\n",
            "Epoch 17/30\n",
            "11610/11610 [==============================] - 0s 36us/sample - loss: 0.7838 - val_loss: 0.5818\n",
            "Epoch 18/30\n",
            "11610/11610 [==============================] - 0s 36us/sample - loss: 0.9960 - val_loss: 1.0598\n",
            "Epoch 19/30\n",
            "11610/11610 [==============================] - 0s 36us/sample - loss: 0.7887 - val_loss: 0.6405\n",
            "Epoch 20/30\n",
            "11610/11610 [==============================] - 0s 35us/sample - loss: 0.5706 - val_loss: 0.5093\n",
            "Epoch 21/30\n",
            "11610/11610 [==============================] - 0s 36us/sample - loss: 0.5192 - val_loss: 0.5457\n",
            "Epoch 22/30\n",
            "11610/11610 [==============================] - 0s 38us/sample - loss: 0.4971 - val_loss: 0.4644\n",
            "Epoch 23/30\n",
            "11610/11610 [==============================] - 0s 38us/sample - loss: 0.4815 - val_loss: 0.4120\n",
            "Epoch 24/30\n",
            "11610/11610 [==============================] - 0s 37us/sample - loss: 0.4678 - val_loss: 0.4853\n",
            "Epoch 25/30\n",
            "11610/11610 [==============================] - 0s 36us/sample - loss: 0.4490 - val_loss: 0.3972\n",
            "Epoch 26/30\n",
            "11610/11610 [==============================] - 0s 35us/sample - loss: 0.4348 - val_loss: 0.4258\n",
            "Epoch 27/30\n",
            "11610/11610 [==============================] - 0s 36us/sample - loss: 0.4377 - val_loss: 0.3829\n",
            "Epoch 28/30\n",
            "11610/11610 [==============================] - 0s 35us/sample - loss: 0.4353 - val_loss: 0.3860\n",
            "Epoch 29/30\n",
            "11610/11610 [==============================] - 0s 35us/sample - loss: 0.4209 - val_loss: 0.3763\n",
            "Epoch 30/30\n",
            "11610/11610 [==============================] - 0s 36us/sample - loss: 0.4441 - val_loss: 0.4186\n"
          ],
          "name": "stdout"
        }
      ]
    },
    {
      "cell_type": "markdown",
      "metadata": {
        "id": "jjKkc0UFidLJ",
        "colab_type": "text"
      },
      "source": [
        "Notice how TensorBoard now sees two runs, and you can compare the learning curves."
      ]
    },
    {
      "cell_type": "markdown",
      "metadata": {
        "id": "tA_9BULyidLJ",
        "colab_type": "text"
      },
      "source": [
        "Check out the other available logging options:"
      ]
    },
    {
      "cell_type": "code",
      "metadata": {
        "id": "p0DbSKjBidLK",
        "colab_type": "code",
        "colab": {},
        "outputId": "0aa145f9-667c-488c-8a04-3c079d2e10c5"
      },
      "source": [
        "help(keras.callbacks.TensorBoard.__init__)"
      ],
      "execution_count": null,
      "outputs": [
        {
          "output_type": "stream",
          "text": [
            "Help on function __init__ in module tensorflow.python.keras.callbacks:\n",
            "\n",
            "__init__(self, log_dir='logs', histogram_freq=0, write_graph=True, write_images=False, update_freq='epoch', profile_batch=2, embeddings_freq=0, embeddings_metadata=None, **kwargs)\n",
            "    Initialize self.  See help(type(self)) for accurate signature.\n",
            "\n"
          ],
          "name": "stdout"
        }
      ]
    },
    {
      "cell_type": "markdown",
      "metadata": {
        "id": "qKIIz8XSidLL",
        "colab_type": "text"
      },
      "source": [
        "# Hyperparameter Tuning"
      ]
    },
    {
      "cell_type": "code",
      "metadata": {
        "id": "kjB1Vw9fidLM",
        "colab_type": "code",
        "colab": {}
      },
      "source": [
        "keras.backend.clear_session()\n",
        "np.random.seed(42)\n",
        "tf.random.set_seed(42)"
      ],
      "execution_count": null,
      "outputs": []
    },
    {
      "cell_type": "code",
      "metadata": {
        "id": "O7qnjNaMidLO",
        "colab_type": "code",
        "colab": {}
      },
      "source": [
        "def build_model(n_hidden=1, n_neurons=30, learning_rate=3e-3, input_shape=[8]):\n",
        "    model = keras.models.Sequential()\n",
        "    model.add(keras.layers.InputLayer(input_shape=input_shape))\n",
        "    for layer in range(n_hidden):\n",
        "        model.add(keras.layers.Dense(n_neurons, activation=\"relu\"))\n",
        "    model.add(keras.layers.Dense(1))\n",
        "    optimizer = keras.optimizers.SGD(lr=learning_rate)\n",
        "    model.compile(loss=\"mse\", optimizer=optimizer)\n",
        "    return model"
      ],
      "execution_count": null,
      "outputs": []
    },
    {
      "cell_type": "code",
      "metadata": {
        "id": "8wk96BWOidLQ",
        "colab_type": "code",
        "colab": {}
      },
      "source": [
        "keras_reg = keras.wrappers.scikit_learn.KerasRegressor(build_model)"
      ],
      "execution_count": null,
      "outputs": []
    },
    {
      "cell_type": "code",
      "metadata": {
        "id": "kF3Q81l0idLR",
        "colab_type": "code",
        "colab": {},
        "outputId": "fdefb39b-aec4-4f4a-b8be-01bdd650d17f"
      },
      "source": [
        "keras_reg.fit(X_train, y_train, epochs=100,\n",
        "              validation_data=(X_valid, y_valid),\n",
        "              callbacks=[keras.callbacks.EarlyStopping(patience=10)])"
      ],
      "execution_count": null,
      "outputs": [
        {
          "output_type": "stream",
          "text": [
            "Train on 11610 samples, validate on 3870 samples\n",
            "Epoch 1/100\n",
            "11610/11610 [==============================] - 0s 43us/sample - loss: 1.1399 - val_loss: 24.4309\n",
            "Epoch 2/100\n",
            "11610/11610 [==============================] - 0s 29us/sample - loss: 0.7393 - val_loss: 3.2896\n",
            "Epoch 3/100\n",
            "11610/11610 [==============================] - 0s 29us/sample - loss: 0.5374 - val_loss: 0.6080\n",
            "Epoch 4/100\n",
            "11610/11610 [==============================] - 0s 28us/sample - loss: 0.4796 - val_loss: 0.4532\n",
            "Epoch 5/100\n",
            "11610/11610 [==============================] - 0s 29us/sample - loss: 0.4536 - val_loss: 0.4221\n",
            "Epoch 6/100\n",
            "11610/11610 [==============================] - 0s 29us/sample - loss: 0.4373 - val_loss: 0.4144\n",
            "Epoch 7/100\n",
            "11610/11610 [==============================] - 0s 29us/sample - loss: 0.4256 - val_loss: 0.4025\n",
            "Epoch 8/100\n",
            "11610/11610 [==============================] - 0s 28us/sample - loss: 0.4178 - val_loss: 0.3938\n",
            "Epoch 9/100\n",
            "11610/11610 [==============================] - 0s 29us/sample - loss: 0.4114 - val_loss: 0.4085\n",
            "Epoch 10/100\n",
            "11610/11610 [==============================] - 0s 28us/sample - loss: 0.4060 - val_loss: 0.3974\n",
            "Epoch 11/100\n",
            "11610/11610 [==============================] - 0s 29us/sample - loss: 0.4018 - val_loss: 0.3847\n",
            "Epoch 12/100\n",
            "11610/11610 [==============================] - 0s 29us/sample - loss: 0.3978 - val_loss: 0.3818\n",
            "Epoch 13/100\n",
            "11610/11610 [==============================] - 0s 28us/sample - loss: 0.3943 - val_loss: 0.3820\n",
            "Epoch 14/100\n",
            "11610/11610 [==============================] - 0s 28us/sample - loss: 0.3915 - val_loss: 0.3766\n",
            "Epoch 15/100\n",
            "11610/11610 [==============================] - 0s 29us/sample - loss: 0.3888 - val_loss: 0.4268\n",
            "Epoch 16/100\n",
            "11610/11610 [==============================] - 0s 28us/sample - loss: 0.3862 - val_loss: 0.3638\n",
            "Epoch 17/100\n",
            "11610/11610 [==============================] - 0s 29us/sample - loss: 0.3842 - val_loss: 0.3666\n",
            "<<53 more lines>>\n",
            "11610/11610 [==============================] - 0s 29us/sample - loss: 0.3533 - val_loss: 0.3355\n",
            "Epoch 45/100\n",
            "11610/11610 [==============================] - 0s 29us/sample - loss: 0.3529 - val_loss: 0.3329\n",
            "Epoch 46/100\n",
            "11610/11610 [==============================] - 0s 29us/sample - loss: 0.3522 - val_loss: 0.3393\n",
            "Epoch 47/100\n",
            "11610/11610 [==============================] - 0s 30us/sample - loss: 0.3510 - val_loss: 0.4172\n",
            "Epoch 48/100\n",
            "11610/11610 [==============================] - 0s 29us/sample - loss: 0.3515 - val_loss: 0.3758\n",
            "Epoch 49/100\n",
            "11610/11610 [==============================] - 0s 29us/sample - loss: 0.3506 - val_loss: 0.4285\n",
            "Epoch 50/100\n",
            "11610/11610 [==============================] - 0s 28us/sample - loss: 0.3506 - val_loss: 0.4004\n",
            "Epoch 51/100\n",
            "11610/11610 [==============================] - 0s 29us/sample - loss: 0.3501 - val_loss: 0.3300\n",
            "Epoch 52/100\n",
            "11610/11610 [==============================] - 0s 29us/sample - loss: 0.3495 - val_loss: 0.3300\n",
            "Epoch 53/100\n",
            "11610/11610 [==============================] - 0s 29us/sample - loss: 0.3485 - val_loss: 0.3599\n",
            "Epoch 54/100\n",
            "11610/11610 [==============================] - 0s 29us/sample - loss: 0.3479 - val_loss: 0.3424\n",
            "Epoch 55/100\n",
            "11610/11610 [==============================] - 0s 29us/sample - loss: 0.3475 - val_loss: 0.3752\n",
            "Epoch 56/100\n",
            "11610/11610 [==============================] - 0s 29us/sample - loss: 0.3472 - val_loss: 0.4231\n",
            "Epoch 57/100\n",
            "11610/11610 [==============================] - 0s 29us/sample - loss: 0.3474 - val_loss: 0.3728\n",
            "Epoch 58/100\n",
            "11610/11610 [==============================] - 0s 28us/sample - loss: 0.3464 - val_loss: 0.3455\n",
            "Epoch 59/100\n",
            "11610/11610 [==============================] - 0s 29us/sample - loss: 0.3458 - val_loss: 0.3647\n",
            "Epoch 60/100\n",
            "11610/11610 [==============================] - 0s 29us/sample - loss: 0.3451 - val_loss: 0.4226\n",
            "Epoch 61/100\n",
            "11610/11610 [==============================] - 0s 29us/sample - loss: 0.3456 - val_loss: 0.3635\n"
          ],
          "name": "stdout"
        },
        {
          "output_type": "execute_result",
          "data": {
            "text/plain": [
              "<tensorflow.python.keras.callbacks.History at 0x7ff32141f630>"
            ]
          },
          "metadata": {
            "tags": []
          },
          "execution_count": 96
        }
      ]
    },
    {
      "cell_type": "code",
      "metadata": {
        "id": "u2tdXy1KidLT",
        "colab_type": "code",
        "colab": {},
        "outputId": "ab111129-612d-4cfe-c6f3-d129a4f96f71"
      },
      "source": [
        "mse_test = keras_reg.score(X_test, y_test)"
      ],
      "execution_count": null,
      "outputs": [
        {
          "output_type": "stream",
          "text": [
            "5160/5160 [==============================] - 0s 14us/sample - loss: 0.3464\n"
          ],
          "name": "stdout"
        }
      ]
    },
    {
      "cell_type": "code",
      "metadata": {
        "id": "xQZ_nlzyidLU",
        "colab_type": "code",
        "colab": {}
      },
      "source": [
        "y_pred = keras_reg.predict(X_new)"
      ],
      "execution_count": null,
      "outputs": []
    },
    {
      "cell_type": "code",
      "metadata": {
        "id": "wj1u-mbuidLW",
        "colab_type": "code",
        "colab": {}
      },
      "source": [
        "np.random.seed(42)\n",
        "tf.random.set_seed(42)"
      ],
      "execution_count": null,
      "outputs": []
    },
    {
      "cell_type": "markdown",
      "metadata": {
        "id": "97eKfy3MidLW",
        "colab_type": "text"
      },
      "source": [
        "**Warning**: the following cell crashes at the end of training. This seems to be caused by [Keras issue #13586](https://github.com/keras-team/keras/issues/13586), which was triggered by a recent change in Scikit-Learn. [Pull Request #13598](https://github.com/keras-team/keras/pull/13598) seems to fix the issue, so this problem should be resolved soon."
      ]
    },
    {
      "cell_type": "code",
      "metadata": {
        "id": "Eze3b9agidLX",
        "colab_type": "code",
        "colab": {},
        "outputId": "ec5b7403-248b-4a02-dead-c0bdadb8d133"
      },
      "source": [
        "from scipy.stats import reciprocal\n",
        "from sklearn.model_selection import RandomizedSearchCV\n",
        "\n",
        "param_distribs = {\n",
        "    \"n_hidden\": [0, 1, 2, 3],\n",
        "    \"n_neurons\": np.arange(1, 100),\n",
        "    \"learning_rate\": reciprocal(3e-4, 3e-2),\n",
        "}\n",
        "\n",
        "rnd_search_cv = RandomizedSearchCV(keras_reg, param_distribs, n_iter=10, cv=3, verbose=2)\n",
        "rnd_search_cv.fit(X_train, y_train, epochs=100,\n",
        "                  validation_data=(X_valid, y_valid),\n",
        "                  callbacks=[keras.callbacks.EarlyStopping(patience=10)])"
      ],
      "execution_count": null,
      "outputs": [
        {
          "output_type": "stream",
          "text": [
            "Fitting 3 folds for each of 10 candidates, totalling 30 fits\n",
            "[CV] learning_rate=0.001683454924600351, n_hidden=0, n_neurons=15 ....\n",
            "Train on 7740 samples, validate on 3870 samples\n",
            "Epoch 1/100\n",
            "  32/7740 [..............................] - ETA: 30s - loss: 6.7379"
          ],
          "name": "stdout"
        },
        {
          "output_type": "stream",
          "text": [
            "[Parallel(n_jobs=1)]: Using backend SequentialBackend with 1 concurrent workers.\n"
          ],
          "name": "stderr"
        },
        {
          "output_type": "stream",
          "text": [
            "7740/7740 [==============================] - 0s 53us/sample - loss: 3.5574 - val_loss: 1.8536\n",
            "Epoch 2/100\n",
            "7740/7740 [==============================] - 0s 30us/sample - loss: 1.3316 - val_loss: 0.9380\n",
            "Epoch 3/100\n",
            "7740/7740 [==============================] - 0s 30us/sample - loss: 0.8573 - val_loss: 0.8545\n",
            "Epoch 4/100\n",
            "7740/7740 [==============================] - 0s 30us/sample - loss: 0.7344 - val_loss: 0.9545\n",
            "Epoch 5/100\n",
            "7740/7740 [==============================] - 0s 30us/sample - loss: 0.6943 - val_loss: 0.7248\n",
            "Epoch 6/100\n",
            "7740/7740 [==============================] - 0s 30us/sample - loss: 0.6682 - val_loss: 0.7356\n",
            "Epoch 7/100\n",
            "7740/7740 [==============================] - 0s 31us/sample - loss: 0.6494 - val_loss: 0.9732\n",
            "Epoch 8/100\n",
            "7740/7740 [==============================] - 0s 30us/sample - loss: 0.6408 - val_loss: 0.6175\n",
            "Epoch 9/100\n",
            "7740/7740 [==============================] - 0s 30us/sample - loss: 0.6256 - val_loss: 0.5877\n",
            "Epoch 10/100\n",
            "7740/7740 [==============================] - 0s 30us/sample - loss: 0.6149 - val_loss: 0.6164\n",
            "Epoch 11/100\n",
            "7740/7740 [==============================] - 0s 29us/sample - loss: 0.6058 - val_loss: 0.5851\n",
            "Epoch 12/100\n",
            "7740/7740 [==============================] - 0s 30us/sample - loss: 0.5961 - val_loss: 0.7040\n",
            "Epoch 13/100\n",
            "7740/7740 [==============================] - 0s 30us/sample - loss: 0.5905 - val_loss: 0.5594\n",
            "Epoch 14/100\n",
            "7740/7740 [==============================] - 0s 30us/sample - loss: 0.5797 - val_loss: 0.8668\n",
            "Epoch 15/100\n",
            "7740/7740 [==============================] - 0s 30us/sample - loss: 0.5764 - val_loss: 0.9031\n",
            "<<2324 more lines>>\n",
            "11610/11610 [==============================] - 0s 31us/sample - loss: 0.2976 - val_loss: 0.3259\n",
            "Epoch 72/100\n",
            "11610/11610 [==============================] - 0s 31us/sample - loss: 0.2979 - val_loss: 0.3275\n",
            "Epoch 73/100\n",
            "11610/11610 [==============================] - 0s 31us/sample - loss: 0.2982 - val_loss: 0.3235\n",
            "Epoch 74/100\n",
            "11610/11610 [==============================] - 0s 31us/sample - loss: 0.2971 - val_loss: 0.2947\n",
            "Epoch 75/100\n",
            "11610/11610 [==============================] - 0s 31us/sample - loss: 0.2960 - val_loss: 0.3523\n",
            "Epoch 76/100\n",
            "11610/11610 [==============================] - 0s 30us/sample - loss: 0.2967 - val_loss: 0.3259\n",
            "Epoch 77/100\n",
            "11610/11610 [==============================] - 0s 30us/sample - loss: 0.2962 - val_loss: 0.3409\n",
            "Epoch 78/100\n",
            "11610/11610 [==============================] - 0s 30us/sample - loss: 0.2952 - val_loss: 0.2925\n",
            "Epoch 79/100\n",
            "11610/11610 [==============================] - 0s 31us/sample - loss: 0.2949 - val_loss: 0.3667\n",
            "Epoch 80/100\n",
            "11610/11610 [==============================] - 0s 31us/sample - loss: 0.2948 - val_loss: 0.2954\n",
            "Epoch 81/100\n",
            "11610/11610 [==============================] - 0s 30us/sample - loss: 0.2931 - val_loss: 0.3468\n",
            "Epoch 82/100\n",
            "11610/11610 [==============================] - 0s 31us/sample - loss: 0.2951 - val_loss: 0.3064\n",
            "Epoch 83/100\n",
            "11610/11610 [==============================] - 0s 31us/sample - loss: 0.2932 - val_loss: 0.3054\n",
            "Epoch 84/100\n",
            "11610/11610 [==============================] - 0s 31us/sample - loss: 0.2924 - val_loss: 0.3041\n",
            "Epoch 85/100\n",
            "11610/11610 [==============================] - 0s 31us/sample - loss: 0.2920 - val_loss: 0.3227\n",
            "Epoch 86/100\n",
            "11610/11610 [==============================] - 0s 30us/sample - loss: 0.2922 - val_loss: 0.2982\n",
            "Epoch 87/100\n",
            "11610/11610 [==============================] - 0s 31us/sample - loss: 0.2917 - val_loss: 0.3389\n",
            "Epoch 88/100\n",
            "11610/11610 [==============================] - 0s 30us/sample - loss: 0.2915 - val_loss: 0.3658\n"
          ],
          "name": "stdout"
        },
        {
          "output_type": "execute_result",
          "data": {
            "text/plain": [
              "RandomizedSearchCV(cv=3, error_score='raise-deprecating',\n",
              "                   estimator=<tensorflow.python.keras.wrappers.scikit_learn.KerasRegressor object at 0x7ff3841c6be0>,\n",
              "                   iid='warn', n_iter=10, n_jobs=None,\n",
              "                   param_distributions={'learning_rate': <scipy.stats._distn_infrastructure.rv_frozen object at 0x7ff384301f60>,\n",
              "                                        'n_hidden': [0, 1, 2, 3],\n",
              "                                        'n_neurons': array([ 1,  2,  3,  4,  5,  6,  7,  8,  9, 10,...\n",
              "       18, 19, 20, 21, 22, 23, 24, 25, 26, 27, 28, 29, 30, 31, 32, 33, 34,\n",
              "       35, 36, 37, 38, 39, 40, 41, 42, 43, 44, 45, 46, 47, 48, 49, 50, 51,\n",
              "       52, 53, 54, 55, 56, 57, 58, 59, 60, 61, 62, 63, 64, 65, 66, 67, 68,\n",
              "       69, 70, 71, 72, 73, 74, 75, 76, 77, 78, 79, 80, 81, 82, 83, 84, 85,\n",
              "       86, 87, 88, 89, 90, 91, 92, 93, 94, 95, 96, 97, 98, 99])},\n",
              "                   pre_dispatch='2*n_jobs', random_state=None, refit=True,\n",
              "                   return_train_score=False, scoring=None, verbose=2)"
            ]
          },
          "metadata": {
            "tags": []
          },
          "execution_count": 100
        }
      ]
    },
    {
      "cell_type": "code",
      "metadata": {
        "id": "-Z3LoaaAidLY",
        "colab_type": "code",
        "colab": {},
        "outputId": "a7d089ba-3f48-46c2-9098-0934943e08af"
      },
      "source": [
        "rnd_search_cv.best_params_"
      ],
      "execution_count": null,
      "outputs": [
        {
          "output_type": "execute_result",
          "data": {
            "text/plain": [
              "{'learning_rate': 0.0033625641252688094, 'n_hidden': 2, 'n_neurons': 42}"
            ]
          },
          "metadata": {
            "tags": []
          },
          "execution_count": 101
        }
      ]
    },
    {
      "cell_type": "code",
      "metadata": {
        "id": "XqCPq6aYidLZ",
        "colab_type": "code",
        "colab": {},
        "outputId": "eefa7449-fd99-4196-971c-140417b9e6f6"
      },
      "source": [
        "rnd_search_cv.best_score_"
      ],
      "execution_count": null,
      "outputs": [
        {
          "output_type": "execute_result",
          "data": {
            "text/plain": [
              "-0.35952892616378346"
            ]
          },
          "metadata": {
            "tags": []
          },
          "execution_count": 102
        }
      ]
    },
    {
      "cell_type": "code",
      "metadata": {
        "id": "vUOxfKWBidLa",
        "colab_type": "code",
        "colab": {},
        "outputId": "50b9a2b3-8f6b-483b-c8fb-62e3431f390a"
      },
      "source": [
        "rnd_search_cv.best_estimator_"
      ],
      "execution_count": null,
      "outputs": [
        {
          "output_type": "execute_result",
          "data": {
            "text/plain": [
              "<tensorflow.python.keras.wrappers.scikit_learn.KerasRegressor at 0x7ff384301518>"
            ]
          },
          "metadata": {
            "tags": []
          },
          "execution_count": 103
        }
      ]
    },
    {
      "cell_type": "code",
      "metadata": {
        "id": "FlXYY7KqidLb",
        "colab_type": "code",
        "colab": {},
        "outputId": "e68ba46a-3489-4372-c793-e37f4def83ed"
      },
      "source": [
        "rnd_search_cv.score(X_test, y_test)"
      ],
      "execution_count": null,
      "outputs": [
        {
          "output_type": "stream",
          "text": [
            "5160/5160 [==============================] - 0s 15us/sample - loss: 0.3065\n"
          ],
          "name": "stdout"
        },
        {
          "output_type": "execute_result",
          "data": {
            "text/plain": [
              "-0.30652404945026074"
            ]
          },
          "metadata": {
            "tags": []
          },
          "execution_count": 104
        }
      ]
    },
    {
      "cell_type": "code",
      "metadata": {
        "id": "HtBnAHnBidLf",
        "colab_type": "code",
        "colab": {},
        "outputId": "0ff4a327-10ff-4edf-c181-5855ee725945"
      },
      "source": [
        "model = rnd_search_cv.best_estimator_.model\n",
        "model"
      ],
      "execution_count": null,
      "outputs": [
        {
          "output_type": "execute_result",
          "data": {
            "text/plain": [
              "<tensorflow.python.keras.engine.sequential.Sequential at 0x7ff350924668>"
            ]
          },
          "metadata": {
            "tags": []
          },
          "execution_count": 105
        }
      ]
    },
    {
      "cell_type": "code",
      "metadata": {
        "scrolled": true,
        "id": "LR0E_hdJidLi",
        "colab_type": "code",
        "colab": {},
        "outputId": "6ab2f04e-682d-4423-9b9a-3a354e826966"
      },
      "source": [
        "model.evaluate(X_test, y_test)"
      ],
      "execution_count": null,
      "outputs": [
        {
          "output_type": "stream",
          "text": [
            "5160/5160 [==============================] - 0s 15us/sample - loss: 0.3065\n"
          ],
          "name": "stdout"
        },
        {
          "output_type": "execute_result",
          "data": {
            "text/plain": [
              "0.30652404945026074"
            ]
          },
          "metadata": {
            "tags": []
          },
          "execution_count": 106
        }
      ]
    },
    {
      "cell_type": "markdown",
      "metadata": {
        "id": "ZoJOo9MYidLn",
        "colab_type": "text"
      },
      "source": [
        "# Exercise solutions"
      ]
    },
    {
      "cell_type": "markdown",
      "metadata": {
        "id": "7BhEYXT0idLn",
        "colab_type": "text"
      },
      "source": [
        "## 1. to 9."
      ]
    },
    {
      "cell_type": "markdown",
      "metadata": {
        "id": "xRB3aI5VidLn",
        "colab_type": "text"
      },
      "source": [
        "See appendix A."
      ]
    },
    {
      "cell_type": "markdown",
      "metadata": {
        "id": "Uc8MhmbFidLo",
        "colab_type": "text"
      },
      "source": [
        "## 10."
      ]
    },
    {
      "cell_type": "markdown",
      "metadata": {
        "id": "reBmmVpAidLo",
        "colab_type": "text"
      },
      "source": [
        "*Exercise: Train a deep MLP on the MNIST dataset (you can load it using `keras.datasets.mnist.load_data()`. See if you can get over 98% precision. Try searching for the optimal learning rate by using the approach presented in this chapter (i.e., by growing the learning rate exponentially, plotting the loss, and finding the point where the loss shoots up). Try adding all the bells and whistles—save checkpoints, use early stopping, and plot learning curves using TensorBoard.*"
      ]
    },
    {
      "cell_type": "markdown",
      "metadata": {
        "id": "fXuPryU1idLo",
        "colab_type": "text"
      },
      "source": [
        "Let's load the dataset:"
      ]
    },
    {
      "cell_type": "code",
      "metadata": {
        "id": "hEFMqm27idLo",
        "colab_type": "code",
        "colab": {}
      },
      "source": [
        "(X_train_full, y_train_full), (X_test, y_test) = keras.datasets.mnist.load_data()"
      ],
      "execution_count": null,
      "outputs": []
    },
    {
      "cell_type": "markdown",
      "metadata": {
        "id": "o83Ng22OidLp",
        "colab_type": "text"
      },
      "source": [
        "Just like for the Fashion MNIST dataset, the MNIST training set contains 60,000 grayscale images, each 28x28 pixels:"
      ]
    },
    {
      "cell_type": "code",
      "metadata": {
        "id": "tHdH6LhTidLp",
        "colab_type": "code",
        "colab": {},
        "outputId": "d7512c4d-30d6-4ed5-e582-08a4f604d9dd"
      },
      "source": [
        "X_train_full.shape"
      ],
      "execution_count": null,
      "outputs": [
        {
          "output_type": "execute_result",
          "data": {
            "text/plain": [
              "(60000, 28, 28)"
            ]
          },
          "metadata": {
            "tags": []
          },
          "execution_count": 108
        }
      ]
    },
    {
      "cell_type": "markdown",
      "metadata": {
        "id": "PmtQLgFcidLr",
        "colab_type": "text"
      },
      "source": [
        "Each pixel intensity is also represented as a byte (0 to 255):"
      ]
    },
    {
      "cell_type": "code",
      "metadata": {
        "id": "TNScIuf2idLr",
        "colab_type": "code",
        "colab": {},
        "outputId": "79671306-75ff-4ce9-d674-21b9589ff86f"
      },
      "source": [
        "X_train_full.dtype"
      ],
      "execution_count": null,
      "outputs": [
        {
          "output_type": "execute_result",
          "data": {
            "text/plain": [
              "dtype('uint8')"
            ]
          },
          "metadata": {
            "tags": []
          },
          "execution_count": 109
        }
      ]
    },
    {
      "cell_type": "markdown",
      "metadata": {
        "id": "Z-AjcG9RidLt",
        "colab_type": "text"
      },
      "source": [
        "Let's split the full training set into a validation set and a (smaller) training set. We also scale the pixel intensities down to the 0-1 range and convert them to floats, by dividing by 255, just like we did for Fashion MNIST:"
      ]
    },
    {
      "cell_type": "code",
      "metadata": {
        "id": "irPNjKpwidLt",
        "colab_type": "code",
        "colab": {}
      },
      "source": [
        "X_valid, X_train = X_train_full[:5000] / 255., X_train_full[5000:] / 255.\n",
        "y_valid, y_train = y_train_full[:5000], y_train_full[5000:]\n",
        "X_test = X_test / 255."
      ],
      "execution_count": null,
      "outputs": []
    },
    {
      "cell_type": "markdown",
      "metadata": {
        "id": "0kepaqBPidLu",
        "colab_type": "text"
      },
      "source": [
        "Let's plot an image using Matplotlib's `imshow()` function, with a `'binary'`\n",
        " color map:"
      ]
    },
    {
      "cell_type": "code",
      "metadata": {
        "id": "1uFmdnvIidLu",
        "colab_type": "code",
        "colab": {},
        "outputId": "bf999279-3520-47df-cf83-c05c88b0f5d4"
      },
      "source": [
        "plt.imshow(X_train[0], cmap=\"binary\")\n",
        "plt.axis('off')\n",
        "plt.show()"
      ],
      "execution_count": null,
      "outputs": [
        {
          "output_type": "display_data",
          "data": {
            "image/png": "[encoded data removed]",
            "text/plain": [
              "<Figure size 432x288 with 1 Axes>"
            ]
          },
          "metadata": {
            "tags": [],
            "needs_background": "light"
          }
        }
      ]
    },
    {
      "cell_type": "markdown",
      "metadata": {
        "id": "Wl9Dh3tFidLv",
        "colab_type": "text"
      },
      "source": [
        "The labels are the class IDs (represented as uint8), from 0 to 9. Conveniently, the class IDs correspond to the digits represented in the images, so we don't need a `class_names` array:"
      ]
    },
    {
      "cell_type": "code",
      "metadata": {
        "id": "zcSHdMjqidLv",
        "colab_type": "code",
        "colab": {},
        "outputId": "a9c3dbe7-70e0-457c-f618-2bb51898ad01"
      },
      "source": [
        "y_train"
      ],
      "execution_count": null,
      "outputs": [
        {
          "output_type": "execute_result",
          "data": {
            "text/plain": [
              "array([7, 3, 4, ..., 5, 6, 8], dtype=uint8)"
            ]
          },
          "metadata": {
            "tags": []
          },
          "execution_count": 112
        }
      ]
    },
    {
      "cell_type": "markdown",
      "metadata": {
        "id": "f9WuVWMQidLz",
        "colab_type": "text"
      },
      "source": [
        "The validation set contains 5,000 images, and the test set contains 10,000 images:"
      ]
    },
    {
      "cell_type": "code",
      "metadata": {
        "id": "zYW5fDelidL0",
        "colab_type": "code",
        "colab": {},
        "outputId": "a6abf25b-4bb9-485d-dd5b-0065ae36c2ed"
      },
      "source": [
        "X_valid.shape"
      ],
      "execution_count": null,
      "outputs": [
        {
          "output_type": "execute_result",
          "data": {
            "text/plain": [
              "(5000, 28, 28)"
            ]
          },
          "metadata": {
            "tags": []
          },
          "execution_count": 113
        }
      ]
    },
    {
      "cell_type": "code",
      "metadata": {
        "id": "jUxCnmDqidL1",
        "colab_type": "code",
        "colab": {},
        "outputId": "53564020-20a5-40df-a9a9-8cee0a68bb9d"
      },
      "source": [
        "X_test.shape"
      ],
      "execution_count": null,
      "outputs": [
        {
          "output_type": "execute_result",
          "data": {
            "text/plain": [
              "(10000, 28, 28)"
            ]
          },
          "metadata": {
            "tags": []
          },
          "execution_count": 114
        }
      ]
    },
    {
      "cell_type": "markdown",
      "metadata": {
        "id": "5mltCbl8idL2",
        "colab_type": "text"
      },
      "source": [
        "Let's take a look at a sample of the images in the dataset:"
      ]
    },
    {
      "cell_type": "code",
      "metadata": {
        "id": "2yDQeVKzidL2",
        "colab_type": "code",
        "colab": {},
        "outputId": "ee5bf57a-e43e-422f-f4aa-9936571a0f96"
      },
      "source": [
        "n_rows = 4\n",
        "n_cols = 10\n",
        "plt.figure(figsize=(n_cols * 1.2, n_rows * 1.2))\n",
        "for row in range(n_rows):\n",
        "    for col in range(n_cols):\n",
        "        index = n_cols * row + col\n",
        "        plt.subplot(n_rows, n_cols, index + 1)\n",
        "        plt.imshow(X_train[index], cmap=\"binary\", interpolation=\"nearest\")\n",
        "        plt.axis('off')\n",
        "        plt.title(y_train[index], fontsize=12)\n",
        "plt.subplots_adjust(wspace=0.2, hspace=0.5)\n",
        "plt.show()"
      ],
      "execution_count": null,
      "outputs": [
        {
          "output_type": "display_data",
          "data": {
            "image/png": "[encoded data removed]",
            "text/plain": [
              "<Figure size 864x345.6 with 40 Axes>"
            ]
          },
          "metadata": {
            "tags": [],
            "needs_background": "light"
          }
        }
      ]
    },
    {
      "cell_type": "markdown",
      "metadata": {
        "id": "cXKiapSCidL3",
        "colab_type": "text"
      },
      "source": [
        "Let's build a simple dense network and find the optimal learning rate. We will need a callback to grow the learning rate at each iteration. It will also record the learning rate and the loss at each iteration:"
      ]
    },
    {
      "cell_type": "code",
      "metadata": {
        "id": "KGMEe9KoidL3",
        "colab_type": "code",
        "colab": {}
      },
      "source": [
        "K = keras.backend\n",
        "\n",
        "class ExponentialLearningRate(keras.callbacks.Callback):\n",
        "    def __init__(self, factor):\n",
        "        self.factor = factor\n",
        "        self.rates = []\n",
        "        self.losses = []\n",
        "    def on_batch_end(self, batch, logs):\n",
        "        self.rates.append(K.get_value(self.model.optimizer.lr))\n",
        "        self.losses.append(logs[\"loss\"])\n",
        "        K.set_value(self.model.optimizer.lr, self.model.optimizer.lr * self.factor)"
      ],
      "execution_count": null,
      "outputs": []
    },
    {
      "cell_type": "code",
      "metadata": {
        "id": "nOW-bKGzidL4",
        "colab_type": "code",
        "colab": {}
      },
      "source": [
        "keras.backend.clear_session()\n",
        "np.random.seed(42)\n",
        "tf.random.set_seed(42)"
      ],
      "execution_count": null,
      "outputs": []
    },
    {
      "cell_type": "code",
      "metadata": {
        "id": "HKBsRPN6idL-",
        "colab_type": "code",
        "colab": {}
      },
      "source": [
        "model = keras.models.Sequential([\n",
        "    keras.layers.Flatten(input_shape=[28, 28]),\n",
        "    keras.layers.Dense(300, activation=\"relu\"),\n",
        "    keras.layers.Dense(100, activation=\"relu\"),\n",
        "    keras.layers.Dense(10, activation=\"softmax\")\n",
        "])"
      ],
      "execution_count": null,
      "outputs": []
    },
    {
      "cell_type": "markdown",
      "metadata": {
        "id": "GwSRfJcwidMA",
        "colab_type": "text"
      },
      "source": [
        "We will start with a small learning rate of 1e-3, and grow it by 0.5% at each iteration:"
      ]
    },
    {
      "cell_type": "code",
      "metadata": {
        "id": "P787oldcidMB",
        "colab_type": "code",
        "colab": {}
      },
      "source": [
        "model.compile(loss=\"sparse_categorical_crossentropy\",\n",
        "              optimizer=keras.optimizers.SGD(lr=1e-3),\n",
        "              metrics=[\"accuracy\"])\n",
        "expon_lr = ExponentialLearningRate(factor=1.005)"
      ],
      "execution_count": null,
      "outputs": []
    },
    {
      "cell_type": "markdown",
      "metadata": {
        "id": "KH7a71lAidMD",
        "colab_type": "text"
      },
      "source": [
        "Now let's train the model for just 1 epoch:"
      ]
    },
    {
      "cell_type": "code",
      "metadata": {
        "id": "9y5SPFWBidMD",
        "colab_type": "code",
        "colab": {},
        "outputId": "2f4259b7-a82e-47b8-d817-cc0f56af15c6"
      },
      "source": [
        "history = model.fit(X_train, y_train, epochs=1,\n",
        "                    validation_data=(X_valid, y_valid),\n",
        "                    callbacks=[expon_lr])"
      ],
      "execution_count": null,
      "outputs": [
        {
          "output_type": "stream",
          "text": [
            "Train on 55000 samples, validate on 5000 samples\n",
            "55000/55000 [==============================] - 3s 52us/sample - loss: 55143288500710.3281 - accuracy: 0.5734 - val_loss: 2.3660 - val_accuracy: 0.1100\n"
          ],
          "name": "stdout"
        }
      ]
    },
    {
      "cell_type": "markdown",
      "metadata": {
        "id": "4drcRqqkidME",
        "colab_type": "text"
      },
      "source": [
        "We can now plot the loss as a functionof the learning rate:"
      ]
    },
    {
      "cell_type": "code",
      "metadata": {
        "id": "Mw_BCBBNidMF",
        "colab_type": "code",
        "colab": {},
        "outputId": "37089fee-6357-4a81-fa79-b1883a7a11c7"
      },
      "source": [
        "plt.plot(expon_lr.rates, expon_lr.losses)\n",
        "plt.gca().set_xscale('log')\n",
        "plt.hlines(min(expon_lr.losses), min(expon_lr.rates), max(expon_lr.rates))\n",
        "plt.axis([min(expon_lr.rates), max(expon_lr.rates), 0, expon_lr.losses[0]])\n",
        "plt.xlabel(\"Learning rate\")\n",
        "plt.ylabel(\"Loss\")"
      ],
      "execution_count": null,
      "outputs": [
        {
          "output_type": "execute_result",
          "data": {
            "text/plain": [
              "Text(0, 0.5, 'Loss')"
            ]
          },
          "metadata": {
            "tags": []
          },
          "execution_count": 121
        },
        {
          "output_type": "display_data",
          "data": {
            "image/png": "[encoded data removed]",
            "text/plain": [
              "<Figure size 432x288 with 1 Axes>"
            ]
          },
          "metadata": {
            "tags": [],
            "needs_background": "light"
          }
        }
      ]
    },
    {
      "cell_type": "markdown",
      "metadata": {
        "id": "9BC3ltg4idMG",
        "colab_type": "text"
      },
      "source": [
        "The loss starts shooting back up violently around 3e-1, so let's try using 2e-1 as our learning rate:"
      ]
    },
    {
      "cell_type": "code",
      "metadata": {
        "id": "iHWASWifidMG",
        "colab_type": "code",
        "colab": {}
      },
      "source": [
        "keras.backend.clear_session()\n",
        "np.random.seed(42)\n",
        "tf.random.set_seed(42)"
      ],
      "execution_count": null,
      "outputs": []
    },
    {
      "cell_type": "code",
      "metadata": {
        "id": "VQFtxl0kidMH",
        "colab_type": "code",
        "colab": {}
      },
      "source": [
        "model = keras.models.Sequential([\n",
        "    keras.layers.Flatten(input_shape=[28, 28]),\n",
        "    keras.layers.Dense(300, activation=\"relu\"),\n",
        "    keras.layers.Dense(100, activation=\"relu\"),\n",
        "    keras.layers.Dense(10, activation=\"softmax\")\n",
        "])"
      ],
      "execution_count": null,
      "outputs": []
    },
    {
      "cell_type": "code",
      "metadata": {
        "id": "FpFqYKanidMJ",
        "colab_type": "code",
        "colab": {}
      },
      "source": [
        "model.compile(loss=\"sparse_categorical_crossentropy\",\n",
        "              optimizer=keras.optimizers.SGD(lr=2e-1),\n",
        "              metrics=[\"accuracy\"])"
      ],
      "execution_count": null,
      "outputs": []
    },
    {
      "cell_type": "code",
      "metadata": {
        "id": "Pd35ltSzidML",
        "colab_type": "code",
        "colab": {},
        "outputId": "a2095364-a9bc-4ec7-a31a-b9c73c7d062a"
      },
      "source": [
        "run_index = 1 # increment this at every run\n",
        "run_logdir = os.path.join(os.curdir, \"my_mnist_logs\", \"run_{:03d}\".format(run_index))\n",
        "run_logdir"
      ],
      "execution_count": null,
      "outputs": [
        {
          "output_type": "execute_result",
          "data": {
            "text/plain": [
              "'./my_mnist_logs/run_001'"
            ]
          },
          "metadata": {
            "tags": []
          },
          "execution_count": 125
        }
      ]
    },
    {
      "cell_type": "code",
      "metadata": {
        "id": "Kukdy-HTidMN",
        "colab_type": "code",
        "colab": {},
        "outputId": "fe38d3e4-d8de-45f7-8cf7-75d5d55c4ec9"
      },
      "source": [
        "early_stopping_cb = keras.callbacks.EarlyStopping(patience=20)\n",
        "checkpoint_cb = keras.callbacks.ModelCheckpoint(\"my_mnist_model.h5\", save_best_only=True)\n",
        "tensorboard_cb = keras.callbacks.TensorBoard(run_logdir)\n",
        "\n",
        "history = model.fit(X_train, y_train, epochs=100,\n",
        "                    validation_data=(X_valid, y_valid),\n",
        "                    callbacks=[early_stopping_cb, checkpoint_cb, tensorboard_cb])"
      ],
      "execution_count": null,
      "outputs": [
        {
          "output_type": "stream",
          "text": [
            "Train on 55000 samples, validate on 5000 samples\n",
            "Epoch 1/100\n",
            "55000/55000 [==============================] - 3s 46us/sample - loss: 0.2361 - accuracy: 0.9280 - val_loss: 0.1183 - val_accuracy: 0.9664\n",
            "Epoch 2/100\n",
            "55000/55000 [==============================] - 2s 42us/sample - loss: 0.0954 - accuracy: 0.9705 - val_loss: 0.0855 - val_accuracy: 0.9768\n",
            "Epoch 3/100\n",
            "55000/55000 [==============================] - 2s 42us/sample - loss: 0.0642 - accuracy: 0.9796 - val_loss: 0.0822 - val_accuracy: 0.9786\n",
            "Epoch 4/100\n",
            "55000/55000 [==============================] - 2s 42us/sample - loss: 0.0462 - accuracy: 0.9855 - val_loss: 0.0804 - val_accuracy: 0.9770\n",
            "Epoch 5/100\n",
            "55000/55000 [==============================] - 2s 42us/sample - loss: 0.0333 - accuracy: 0.9894 - val_loss: 0.1907 - val_accuracy: 0.9500\n",
            "Epoch 6/100\n",
            "55000/55000 [==============================] - 2s 41us/sample - loss: 0.0244 - accuracy: 0.9919 - val_loss: 0.0698 - val_accuracy: 0.9828\n",
            "Epoch 7/100\n",
            "55000/55000 [==============================] - 2s 41us/sample - loss: 0.0205 - accuracy: 0.9929 - val_loss: 0.0809 - val_accuracy: 0.9800\n",
            "Epoch 8/100\n",
            "55000/55000 [==============================] - 2s 42us/sample - loss: 0.0153 - accuracy: 0.9949 - val_loss: 0.0841 - val_accuracy: 0.9824\n",
            "Epoch 9/100\n",
            "55000/55000 [==============================] - 2s 42us/sample - loss: 0.0084 - accuracy: 0.9975 - val_loss: 0.0899 - val_accuracy: 0.9788\n",
            "Epoch 10/100\n",
            "55000/55000 [==============================] - 2s 41us/sample - loss: 0.0084 - accuracy: 0.9972 - val_loss: 0.0741 - val_accuracy: 0.9844\n",
            "Epoch 11/100\n",
            "55000/55000 [==============================] - 2s 42us/sample - loss: 0.0042 - accuracy: 0.9989 - val_loss: 0.0729 - val_accuracy: 0.9842\n",
            "Epoch 12/100\n",
            "55000/55000 [==============================] - 2s 43us/sample - loss: 0.0028 - accuracy: 0.9993 - val_loss: 0.0839 - val_accuracy: 0.9838\n",
            "Epoch 13/100\n",
            "55000/55000 [==============================] - 2s 43us/sample - loss: 0.0018 - accuracy: 0.9997 - val_loss: 0.0747 - val_accuracy: 0.9858\n",
            "Epoch 14/100\n",
            "55000/55000 [==============================] - 2s 43us/sample - loss: 8.9780e-04 - accuracy: 0.9998 - val_loss: 0.0732 - val_accuracy: 0.9858\n",
            "Epoch 15/100\n",
            "55000/55000 [==============================] - 2s 42us/sample - loss: 3.7406e-04 - accuracy: 1.0000 - val_loss: 0.0771 - val_accuracy: 0.9862\n",
            "Epoch 16/100\n",
            "55000/55000 [==============================] - 2s 41us/sample - loss: 2.2128e-04 - accuracy: 1.0000 - val_loss: 0.0783 - val_accuracy: 0.9860\n",
            "Epoch 17/100\n",
            "55000/55000 [==============================] - 2s 43us/sample - loss: 1.8240e-04 - accuracy: 1.0000 - val_loss: 0.0789 - val_accuracy: 0.9864\n",
            "Epoch 18/100\n",
            "55000/55000 [==============================] - 2s 45us/sample - loss: 1.5978e-04 - accuracy: 1.0000 - val_loss: 0.0800 - val_accuracy: 0.9862\n",
            "Epoch 19/100\n",
            "55000/55000 [==============================] - 2s 43us/sample - loss: 1.4287e-04 - accuracy: 1.0000 - val_loss: 0.0808 - val_accuracy: 0.9862\n",
            "Epoch 20/100\n",
            "55000/55000 [==============================] - 2s 42us/sample - loss: 1.2992e-04 - accuracy: 1.0000 - val_loss: 0.0812 - val_accuracy: 0.9860\n",
            "Epoch 21/100\n",
            "55000/55000 [==============================] - 2s 43us/sample - loss: 1.2116e-04 - accuracy: 1.0000 - val_loss: 0.0816 - val_accuracy: 0.9860\n",
            "Epoch 22/100\n",
            "55000/55000 [==============================] - 2s 43us/sample - loss: 1.1251e-04 - accuracy: 1.0000 - val_loss: 0.0820 - val_accuracy: 0.9862\n",
            "Epoch 23/100\n",
            "55000/55000 [==============================] - 2s 44us/sample - loss: 1.0464e-04 - accuracy: 1.0000 - val_loss: 0.0826 - val_accuracy: 0.9866\n",
            "Epoch 24/100\n",
            "55000/55000 [==============================] - 2s 43us/sample - loss: 9.8997e-05 - accuracy: 1.0000 - val_loss: 0.0833 - val_accuracy: 0.9864\n",
            "Epoch 25/100\n",
            "55000/55000 [==============================] - 2s 43us/sample - loss: 9.3607e-05 - accuracy: 1.0000 - val_loss: 0.0837 - val_accuracy: 0.9864\n",
            "Epoch 26/100\n",
            "55000/55000 [==============================] - 2s 43us/sample - loss: 8.8776e-05 - accuracy: 1.0000 - val_loss: 0.0839 - val_accuracy: 0.9864\n"
          ],
          "name": "stdout"
        }
      ]
    },
    {
      "cell_type": "code",
      "metadata": {
        "id": "ppnMTr_bidMP",
        "colab_type": "code",
        "colab": {},
        "outputId": "47ce03ff-f281-43a2-b9db-32c1e84f47d9"
      },
      "source": [
        "model = keras.models.load_model(\"my_mnist_model.h5\") # rollback to best model\n",
        "model.evaluate(X_test, y_test)"
      ],
      "execution_count": null,
      "outputs": [
        {
          "output_type": "stream",
          "text": [
            "10000/10000 [==============================] - 0s 26us/sample - loss: 0.0692 - accuracy: 0.9806\n"
          ],
          "name": "stdout"
        },
        {
          "output_type": "execute_result",
          "data": {
            "text/plain": [
              "[0.06917384602149541, 0.9806]"
            ]
          },
          "metadata": {
            "tags": []
          },
          "execution_count": 127
        }
      ]
    },
    {
      "cell_type": "markdown",
      "metadata": {
        "id": "jtn8Dnf8idMR",
        "colab_type": "text"
      },
      "source": [
        "We got over 98% accuracy. Finally, let's look at the learning curves using TensorBoard:"
      ]
    },
    {
      "cell_type": "code",
      "metadata": {
        "id": "luVmNKRdidMR",
        "colab_type": "code",
        "colab": {},
        "outputId": "0350b1c1-53f9-4038-c591-5acb9054b8a3"
      },
      "source": [
        "%tensorboard --logdir=./my_mnist_logs --port=6006"
      ],
      "execution_count": null,
      "outputs": [
        {
          "output_type": "display_data",
          "data": {
            "text/html": [
              "\n",
              "      <iframe id=\"tensorboard-frame-c70eacbf9e1fb8d3\" width=\"100%\" height=\"800\" frameborder=\"0\">\n",
              "      </iframe>\n",
              "      <script>\n",
              "        (function() {\n",
              "          const frame = document.getElementById(\"tensorboard-frame-c70eacbf9e1fb8d3\");\n",
              "          const url = new URL(\"/\", window.location);\n",
              "          url.port = 6006;\n",
              "          frame.src = url;\n",
              "        })();\n",
              "      </script>\n",
              "  "
            ],
            "text/plain": [
              "<IPython.core.display.HTML object>"
            ]
          },
          "metadata": {
            "tags": []
          }
        }
      ]
    },
    {
      "cell_type": "code",
      "metadata": {
        "id": "qEnQ_tXPidMU",
        "colab_type": "code",
        "colab": {}
      },
      "source": [
        ""
      ],
      "execution_count": null,
      "outputs": []
    }
  ]
}